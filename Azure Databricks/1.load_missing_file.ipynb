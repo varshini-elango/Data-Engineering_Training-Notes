{
 "cells": [
  {
   "cell_type": "code",
   "execution_count": 0,
   "metadata": {
    "application/vnd.databricks.v1+cell": {
     "cellMetadata": {},
     "inputWidgets": {},
     "nuid": "bb212e76-6e3c-4a50-8f1b-4c45f34010c1",
     "showTitle": false,
     "title": ""
    }
   },
   "outputs": [],
   "source": [
    "from pyspark.sql import SparkSession\n",
    "from pyspark.sql.utils import Analysis Exception\n",
    "import os\n",
    "\n",
    "#Initialize Spark session\n",
    "spark = SparkSession.builder.appName(\"RobustDataLoading\").getOrCreate()\n",
    "\n",
    "#Define file path\n",
    "file_path\"/dbfs/mnt/data/input_data.csv\"\n",
    "\n",
    "#Check if file exists\n",
    "if os.path.exists(file_path):\n",
    "    #Load the data\n",
    "    try:\n",
    "        df spark.read.format(\"csv\").option(\"header\", \"true\").load(file_path)\n",
    "        print(\"Data loaded successfully.\")\n",
    "    except AnalysisException as e:\n",
    "        print(f\"Failed to load data: (str(e))\")\n",
    "else:\n",
    "    # Log missing file error\n",
    "    print(f\"File not found: (file_path)\")"
   ]
  }
 ],
 "metadata": {
  "application/vnd.databricks.v1+notebook": {
   "dashboards": [],
   "environmentMetadata": null,
   "language": "python",
   "notebookMetadata": {
    "mostRecentlyExecutedCommandWithImplicitDF": {
     "commandId": 2289039131618906,
     "dataframes": [
      "_sqldf"
     ]
    },
    "pythonIndentUnit": 4
   },
   "notebookName": "1.data_loading",
   "widgets": {}
  }
 },
 "nbformat": 4,
 "nbformat_minor": 0
}
