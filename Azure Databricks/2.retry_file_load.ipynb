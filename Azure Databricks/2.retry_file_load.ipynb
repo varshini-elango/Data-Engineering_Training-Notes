{
 "cells": [
  {
   "cell_type": "code",
   "execution_count": 0,
   "metadata": {
    "application/vnd.databricks.v1+cell": {
     "cellMetadata": {},
     "inputWidgets": {},
     "nuid": "135b93cc-8023-4063-93fc-2c3637837f70",
     "showTitle": false,
     "title": ""
    }
   },
   "outputs": [],
   "source": [
    "from pyspark.sql.functions import col\n",
    "import time\n",
    "\n",
    "# Number of retries\n",
    "max_retries = 3\n",
    "retries = 0\n",
    "success = False\n",
    "\n",
    "# Define the transformation logic\n",
    "def transform_data():\n",
    "    df spark.read.format(\"csv\").option(\"header\", \"true\").load(\"/dbfs/mnt/data/input_data.csv\"\n",
    "    df_transformed df.withColumn (\"Salary\", col(\"Salary\").cast(\"double\") 1.1)\n",
    "    df_transformed.write.format(\"delta\").mode(\"overwrite\").save(\"/delta/transformed_data\")\n",
    "    print(\"Data transformed successfully.\")\n",
    "\n",
    "# Retry loop\n",
    "while retries < max_retries and not success:\n",
    "    try:\n",
    "        transform_data()\n",
    "        success = True\n",
    "    except Exception as e:\n",
    "        retries += 1\n",
    "        print (f\"Transformation failed. Retry (retries}/{max_retries}\")\n",
    "        time.sleep(5)\n",
    "if not success:\n",
    "    print(\"Transformation failed after max retries.\")"
   ]
  }
 ],
 "metadata": {
  "application/vnd.databricks.v1+notebook": {
   "dashboards": [],
   "environmentMetadata": null,
   "language": "python",
   "notebookMetadata": {
    "pythonIndentUnit": 4
   },
   "notebookName": "2.retry_loading",
   "widgets": {}
  }
 },
 "nbformat": 4,
 "nbformat_minor": 0
}
