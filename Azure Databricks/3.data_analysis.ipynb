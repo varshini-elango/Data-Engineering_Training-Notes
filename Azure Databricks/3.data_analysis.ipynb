{
 "cells": [
  {
   "cell_type": "code",
   "execution_count": 0,
   "metadata": {
    "application/vnd.databricks.v1+cell": {
     "cellMetadata": {},
     "inputWidgets": {},
     "nuid": "29c4de93-04d6-47e7-9b64-d0bbd152d45e",
     "showTitle": false,
     "title": ""
    }
   },
   "outputs": [],
   "source": [
    "# Define Delta table path\n",
    "delta_table_path = \"/delta/transformed_data\"\n",
    "\n",
    "#Check if the Delta table exists\n",
    "try:\n",
    "    spark.sql(f\"DESCRIBE HISTORY delta. (delta_table_path}\").show()\n",
    "    # If table exists, perform analysis\n",
    "    df spark.read.format(\"delta\").load(delta_table_path)\n",
    "    df.groupBy(\"Department\").avg(\"Salary\").show()\n",
    "    print(\"Data analysis completed successfully.\")\n",
    "except AnalysisException as e:\n",
    "    print(f\"Data not found or incomplete: (str(e)). Skipping analysis.\")"
   ]
  }
 ],
 "metadata": {
  "application/vnd.databricks.v1+notebook": {
   "dashboards": [],
   "environmentMetadata": null,
   "language": "python",
   "notebookMetadata": {
    "pythonIndentUnit": 4
   },
   "notebookName": "3.data_analysis",
   "widgets": {}
  }
 },
 "nbformat": 4,
 "nbformat_minor": 0
}
