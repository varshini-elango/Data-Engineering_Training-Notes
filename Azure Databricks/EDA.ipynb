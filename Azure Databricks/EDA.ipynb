{
 "cells": [
  {
   "cell_type": "code",
   "execution_count": 0,
   "metadata": {
    "application/vnd.databricks.v1+cell": {
     "cellMetadata": {
      "byteLimit": 2048000,
      "rowLimit": 10000
     },
     "inputWidgets": {},
     "nuid": "3ffc52b3-b1cb-4db6-b644-43934797b527",
     "showTitle": false,
     "title": ""
    }
   },
   "outputs": [
    {
     "output_type": "stream",
     "name": "stdout",
     "output_type": "stream",
     "text": [
      "Hii\n"
     ]
    }
   ],
   "source": [
    "print(\"Hii\")"
   ]
  },
  {
   "cell_type": "code",
   "execution_count": 0,
   "metadata": {
    "application/vnd.databricks.v1+cell": {
     "cellMetadata": {
      "byteLimit": 2048000,
      "rowLimit": 10000
     },
     "inputWidgets": {},
     "nuid": "f20e811c-c7f2-4b17-b060-eb059646de9e",
     "showTitle": false,
     "title": ""
    }
   },
   "outputs": [
    {
     "output_type": "execute_result",
     "data": {
      "text/plain": [
       "True"
      ]
     },
     "execution_count": 4,
     "metadata": {},
     "output_type": "execute_result"
    }
   ],
   "source": [
    "#data\n",
    "\n",
    "# Move the file from Workspace to DBFS\n",
    "dbutils.fs.cp(\"file:/Workspace/Shared/data.csv\",\"dbfs:/FileStore/data.csv\")"
   ]
  },
  {
   "cell_type": "code",
   "execution_count": 0,
   "metadata": {
    "application/vnd.databricks.v1+cell": {
     "cellMetadata": {
      "byteLimit": 2048000,
      "rowLimit": 10000
     },
     "inputWidgets": {},
     "nuid": "1c9c6bf0-cc6f-40ae-81da-fb0e213511b0",
     "showTitle": false,
     "title": ""
    }
   },
   "outputs": [
    {
     "output_type": "stream",
     "name": "stdout",
     "output_type": "stream",
     "text": [
      "+----------+-------+------+----+---------+---------+\n|   FL_DATE|CARRIER|ORIGIN|DEST|DEP_DELAY|ARR_DELAY|\n+----------+-------+------+----+---------+---------+\n|2023-09-01|     AA|   ATL| DFW|        5|       10|\n|2023-09-01|     UA|   LAX| JFK|       -3|        0|\n|2023-09-01|     DL|   SFO| ORD|        7|       15|\n|2023-09-02|     AA|   DFW| LAX|        0|       -5|\n|2023-09-02|     UA|   JFK| ATL|       -2|        0|\n|2023-09-02|     DL|   ORD| LAX|       20|       30|\n|2023-09-03|     AA|   LAX| SFO|       10|       12|\n|2023-09-03|     UA|   ATL| ORD|        0|      -10|\n|2023-09-03|     DL|   SFO| JFK|        5|       25|\n|2023-09-04|     AA|   JFK| LAX|        0|        0|\n|2023-09-04|     UA|   ORD| ATL|       15|       20|\n|2023-09-04|     DL|   LAX| SFO|       -5|      -10|\n|2023-09-05|     AA|   LAX| JFK|       20|       25|\n|2023-09-05|     UA|   DFW| ATL|        0|        0|\n|2023-09-05|     DL|   JFK| LAX|       10|       15|\n+----------+-------+------+----+---------+---------+\n\n"
     ]
    }
   ],
   "source": [
    "# Load the file from DBFS\n",
    "df = spark.read.format(\"csv\").option(\"header\", \"true\").load(\"/FileStore/data.csv\")\n",
    "df.show()"
   ]
  },
  {
   "cell_type": "code",
   "execution_count": 0,
   "metadata": {
    "application/vnd.databricks.v1+cell": {
     "cellMetadata": {
      "byteLimit": 2048000,
      "rowLimit": 10000
     },
     "inputWidgets": {},
     "nuid": "93a62347-71e8-4e92-aa5e-c979cd51ca42",
     "showTitle": false,
     "title": ""
    }
   },
   "outputs": [
    {
     "output_type": "display_data",
     "data": {
      "image/png": "[encoded data removed]",
      "text/plain": [
       "<Figure size 640x480 with 1 Axes>"
      ]
     },
     "metadata": {},
     "output_type": "display_data"
    }
   ],
   "source": [
    "import matplotlib.pyplot as plt\n",
    "\n",
    "#Convert to Pandas\n",
    "df_pandas = df.groupBy(\"CARRIER\").agg({\"ARR_DELAY\": \"avg\"}).toPandas()\n",
    "#Plot using Matplotlib\n",
    "df_pandas.plot(kind='bar', x='CARRIER', y=\"avg(ARR_DELAY)\", legend=True)\n",
    "plt.title(\"Average Arrival Delay by Airline\")\n",
    "plt.xlabel(\"Airline\")\n",
    "plt.ylabel(\"Average Delay (minutes)\")\n",
    "plt.show()"
   ]
  },
  {
   "cell_type": "code",
   "execution_count": 0,
   "metadata": {
    "application/vnd.databricks.v1+cell": {
     "cellMetadata": {
      "byteLimit": 2048000,
      "rowLimit": 10000
     },
     "inputWidgets": {},
     "nuid": "34f0a4e3-afe7-4b09-903e-38e3f386ec10",
     "showTitle": false,
     "title": ""
    }
   },
   "outputs": [
    {
     "output_type": "execute_result",
     "data": {
      "text/plain": [
       "True"
      ]
     },
     "execution_count": 8,
     "metadata": {},
     "output_type": "execute_result"
    }
   ],
   "source": [
    "#sales_data\n",
    "\n",
    "#move the file from workspace to dbfs\n",
    "dbutils.fs.cp(\"file:/Workspace/Shared/sales_data.csv\",\"dbfs:/FileStore/sales_data.csv\")"
   ]
  },
  {
   "cell_type": "code",
   "execution_count": 0,
   "metadata": {
    "application/vnd.databricks.v1+cell": {
     "cellMetadata": {
      "byteLimit": 2048000,
      "rowLimit": 10000
     },
     "inputWidgets": {},
     "nuid": "1ad69182-911a-4666-90fb-dfd61fb6e9c0",
     "showTitle": false,
     "title": ""
    }
   },
   "outputs": [
    {
     "output_type": "stream",
     "name": "stdout",
     "output_type": "stream",
     "text": [
      "+----------+------+--------+--------+-----+\n|      Date|Region| Product|Quantity|Price|\n+----------+------+--------+--------+-----+\n|2024-09-01| North|Widget A|      10| 25.5|\n|2024-09-01| South|Widget B|       5|15.75|\n|2024-09-02| North|Widget A|      12| 25.5|\n|2024-09-02|  East|Widget C|       8| 22.5|\n|2024-09-03|  West|Widget A|      15| 25.5|\n|2024-09-03| South|Widget B|      20|15.75|\n|2024-09-03|  East|Widget C|      10| 22.5|\n|2024-09-04| North|Widget D|       7| 30.0|\n|2024-09-04|  West|Widget B|       9|15.75|\n+----------+------+--------+--------+-----+\n\n"
     ]
    }
   ],
   "source": [
    "#reading data from a csv file\n",
    "df_csv = spark.read.csv(\"/FileStore/sales_data.csv\", header=True\n",
    ", inferSchema=True)\n",
    "df_csv.show()"
   ]
  },
  {
   "cell_type": "code",
   "execution_count": 0,
   "metadata": {
    "application/vnd.databricks.v1+cell": {
     "cellMetadata": {
      "byteLimit": 2048000,
      "rowLimit": 10000
     },
     "inputWidgets": {},
     "nuid": "977e256b-45be-4c49-8543-2c179c9b52b9",
     "showTitle": false,
     "title": ""
    }
   },
   "outputs": [],
   "source": [
    "#writing data to a csv file\n",
    "df_csv.write.format(\"csv\").option(\"header\",\"true\").save(\"/workspace/Shared/csv_output\")"
   ]
  },
  {
   "cell_type": "code",
   "execution_count": 0,
   "metadata": {
    "application/vnd.databricks.v1+cell": {
     "cellMetadata": {
      "byteLimit": 2048000,
      "rowLimit": 10000
     },
     "inputWidgets": {},
     "nuid": "5d8f2bd9-0ca7-4ebf-98f9-2c4ef066779d",
     "showTitle": false,
     "title": ""
    }
   },
   "outputs": [],
   "source": [
    "#create a SQL table from dataframe\n",
    "df_csv.write.saveAsTable(\"sales_table\")\n"
   ]
  },
  {
   "cell_type": "code",
   "execution_count": 0,
   "metadata": {
    "application/vnd.databricks.v1+cell": {
     "cellMetadata": {
      "byteLimit": 2048000,
      "rowLimit": 10000
     },
     "inputWidgets": {},
     "nuid": "1f312ed2-95e5-4fe4-b662-9b23f48abd6b",
     "showTitle": false,
     "title": ""
    }
   },
   "outputs": [
    {
     "output_type": "stream",
     "name": "stdout",
     "output_type": "stream",
     "text": [
      "+----------+------+--------+--------+-----+\n|      Date|Region| Product|Quantity|Price|\n+----------+------+--------+--------+-----+\n|2024-09-01| North|Widget A|      10| 25.5|\n|2024-09-01| South|Widget B|       5|15.75|\n|2024-09-02| North|Widget A|      12| 25.5|\n|2024-09-02|  East|Widget C|       8| 22.5|\n|2024-09-03|  West|Widget A|      15| 25.5|\n|2024-09-03| South|Widget B|      20|15.75|\n|2024-09-03|  East|Widget C|      10| 22.5|\n|2024-09-04| North|Widget D|       7| 30.0|\n|2024-09-04|  West|Widget B|       9|15.75|\n+----------+------+--------+--------+-----+\n\n"
     ]
    }
   ],
   "source": [
    "#read the table using spark SQL\n",
    "df_table = spark.read.table(\"sales_table\")\n",
    "df_table.show()"
   ]
  },
  {
   "cell_type": "code",
   "execution_count": 0,
   "metadata": {
    "application/vnd.databricks.v1+cell": {
     "cellMetadata": {
      "byteLimit": 2048000,
      "rowLimit": 10000
     },
     "inputWidgets": {},
     "nuid": "731f2e2f-a23e-42ac-b55d-f9f3cc8afe4a",
     "showTitle": false,
     "title": ""
    }
   },
   "outputs": [],
   "source": [
    "#writing data to a delta table\n",
    "df_csv.write.format(\"delta\").mode(\"overwrite\").save(\"/workspace/shared/delta_sales_data\")"
   ]
  },
  {
   "cell_type": "code",
   "execution_count": 0,
   "metadata": {
    "application/vnd.databricks.v1+cell": {
     "cellMetadata": {
      "byteLimit": 2048000,
      "rowLimit": 10000
     },
     "inputWidgets": {},
     "nuid": "84ee4166-0ddc-498d-8313-cc9cb4fea6f3",
     "showTitle": false,
     "title": ""
    }
   },
   "outputs": [
    {
     "output_type": "stream",
     "name": "stdout",
     "output_type": "stream",
     "text": [
      "+----------+------+--------+--------+-----+\n|      Date|Region| Product|Quantity|Price|\n+----------+------+--------+--------+-----+\n|2024-09-01| North|Widget A|      10| 25.5|\n|2024-09-01| South|Widget B|       5|15.75|\n|2024-09-02| North|Widget A|      12| 25.5|\n|2024-09-02|  East|Widget C|       8| 22.5|\n|2024-09-03|  West|Widget A|      15| 25.5|\n|2024-09-03| South|Widget B|      20|15.75|\n|2024-09-03|  East|Widget C|      10| 22.5|\n|2024-09-04| North|Widget D|       7| 30.0|\n|2024-09-04|  West|Widget B|       9|15.75|\n+----------+------+--------+--------+-----+\n\n"
     ]
    }
   ],
   "source": [
    "#readind data from a delta table\n",
    "df_delta = spark.read.format(\"delta\").load(\"/workspace/shared/delta_sales_data\")\n",
    "df_delta.show()"
   ]
  },
  {
   "cell_type": "code",
   "execution_count": 0,
   "metadata": {
    "application/vnd.databricks.v1+cell": {
     "cellMetadata": {
      "byteLimit": 2048000,
      "rowLimit": 10000
     },
     "inputWidgets": {},
     "nuid": "af55706d-c8fd-4814-a93c-faee8b167cae",
     "showTitle": false,
     "title": ""
    }
   },
   "outputs": [
    {
     "output_type": "stream",
     "name": "stdout",
     "output_type": "stream",
     "text": [
      "+----------+------+--------+--------+-----+\n|      Date|Region| Product|Quantity|Price|\n+----------+------+--------+--------+-----+\n|2024-09-02| North|Widget A|      12| 25.5|\n|2024-09-03|  West|Widget A|      15| 25.5|\n|2024-09-03| South|Widget B|      20|15.75|\n+----------+------+--------+--------+-----+\n\n"
     ]
    }
   ],
   "source": [
    "\n",
    "# Query Delta Table with SQL\n",
    "df_query = spark.sql(\"SELECT * FROM sales_table WHERE Quantity > 10\")\n",
    "df_query.show()"
   ]
  },
  {
   "cell_type": "code",
   "execution_count": 0,
   "metadata": {
    "application/vnd.databricks.v1+cell": {
     "cellMetadata": {},
     "inputWidgets": {},
     "nuid": "a769e5e6-3ffd-4a1d-a349-75e216fc8823",
     "showTitle": false,
     "title": ""
    }
   },
   "outputs": [],
   "source": []
  }
 ],
 "metadata": {
  "application/vnd.databricks.v1+notebook": {
   "dashboards": [],
   "environmentMetadata": null,
   "language": "python",
   "notebookMetadata": {
    "pythonIndentUnit": 4
   },
   "notebookName": "EDA",
   "widgets": {}
  }
 },
 "nbformat": 4,
 "nbformat_minor": 0
}
