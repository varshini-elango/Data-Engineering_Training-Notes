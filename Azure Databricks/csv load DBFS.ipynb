{
 "cells": [
  {
   "cell_type": "markdown",
   "metadata": {
    "application/vnd.databricks.v1+cell": {
     "cellMetadata": {},
     "inputWidgets": {},
     "nuid": "96816ed7-b08a-4ca3-abb9-f99880c3535d",
     "showTitle": false,
     "title": ""
    }
   },
   "source": [
    "\n",
    "## Overview\n",
    "\n",
    "This notebook will show you how to create and query a table or DataFrame that you uploaded to DBFS. [DBFS](https://docs.databricks.com/user-guide/dbfs-databricks-file-system.html) is a Databricks File System that allows you to store data for querying inside of Databricks. This notebook assumes that you have a file already inside of DBFS that you would like to read from.\n",
    "\n",
    "This notebook is written in **Python** so the default cell type is Python. However, you can use different languages by using the `%LANGUAGE` syntax. Python, Scala, SQL, and R are all supported."
   ]
  },
  {
   "cell_type": "code",
   "execution_count": 0,
   "metadata": {
    "application/vnd.databricks.v1+cell": {
     "cellMetadata": {
      "byteLimit": 2048000,
      "rowLimit": 10000
     },
     "inputWidgets": {},
     "nuid": "6482be4c-f067-47c9-b0ac-35c938b94601",
     "showTitle": false,
     "title": ""
    }
   },
   "outputs": [
    {
     "output_type": "display_data",
     "data": {
      "text/html": [
       "<style scoped>\n",
       "  .table-result-container {\n",
       "    max-height: 300px;\n",
       "    overflow: auto;\n",
       "  }\n",
       "  table, th, td {\n",
       "    border: 1px solid black;\n",
       "    border-collapse: collapse;\n",
       "  }\n",
       "  th, td {\n",
       "    padding: 5px;\n",
       "  }\n",
       "  th {\n",
       "    text-align: left;\n",
       "  }\n",
       "</style><div class='table-result-container'><table class='table-result'><thead style='background-color: white'><tr><th>_c0</th><th>_c1</th><th>_c2</th><th>_c3</th><th>_c4</th><th>_c5</th></tr></thead><tbody><tr><td>FL_DATE</td><td>CARRIER</td><td>ORIGIN</td><td>DEST</td><td>DEP_DELAY</td><td>ARR_DELAY</td></tr><tr><td>2023-09-01</td><td>AA</td><td>ATL</td><td>DFW</td><td>5</td><td>10</td></tr><tr><td>2023-09-01</td><td>UA</td><td>LAX</td><td>JFK</td><td>-3</td><td>0</td></tr><tr><td>2023-09-01</td><td>DL</td><td>SFO</td><td>ORD</td><td>7</td><td>15</td></tr><tr><td>2023-09-02</td><td>AA</td><td>DFW</td><td>LAX</td><td>0</td><td>-5</td></tr><tr><td>2023-09-02</td><td>UA</td><td>JFK</td><td>ATL</td><td>-2</td><td>0</td></tr><tr><td>2023-09-02</td><td>DL</td><td>ORD</td><td>LAX</td><td>20</td><td>30</td></tr><tr><td>2023-09-03</td><td>AA</td><td>LAX</td><td>SFO</td><td>10</td><td>12</td></tr><tr><td>2023-09-03</td><td>UA</td><td>ATL</td><td>ORD</td><td>0</td><td>-10</td></tr><tr><td>2023-09-03</td><td>DL</td><td>SFO</td><td>JFK</td><td>5</td><td>25</td></tr><tr><td>2023-09-04</td><td>AA</td><td>JFK</td><td>LAX</td><td>0</td><td>0</td></tr><tr><td>2023-09-04</td><td>UA</td><td>ORD</td><td>ATL</td><td>15</td><td>20</td></tr><tr><td>2023-09-04</td><td>DL</td><td>LAX</td><td>SFO</td><td>-5</td><td>-10</td></tr><tr><td>2023-09-05</td><td>AA</td><td>LAX</td><td>JFK</td><td>20</td><td>25</td></tr><tr><td>2023-09-05</td><td>UA</td><td>DFW</td><td>ATL</td><td>0</td><td>0</td></tr><tr><td>2023-09-05</td><td>DL</td><td>JFK</td><td>LAX</td><td>10</td><td>15</td></tr></tbody></table></div>"
      ]
     },
     "metadata": {
      "application/vnd.databricks.v1+output": {
       "addedWidgets": {},
       "aggData": [],
       "aggError": "",
       "aggOverflow": false,
       "aggSchema": [],
       "aggSeriesLimitReached": false,
       "aggType": "",
       "arguments": {},
       "columnCustomDisplayInfos": {},
       "data": [
        [
         "FL_DATE",
         "CARRIER",
         "ORIGIN",
         "DEST",
         "DEP_DELAY",
         "ARR_DELAY"
        ],
        [
         "2023-09-01",
         "AA",
         "ATL",
         "DFW",
         "5",
         "10"
        ],
        [
         "2023-09-01",
         "UA",
         "LAX",
         "JFK",
         "-3",
         "0"
        ],
        [
         "2023-09-01",
         "DL",
         "SFO",
         "ORD",
         "7",
         "15"
        ],
        [
         "2023-09-02",
         "AA",
         "DFW",
         "LAX",
         "0",
         "-5"
        ],
        [
         "2023-09-02",
         "UA",
         "JFK",
         "ATL",
         "-2",
         "0"
        ],
        [
         "2023-09-02",
         "DL",
         "ORD",
         "LAX",
         "20",
         "30"
        ],
        [
         "2023-09-03",
         "AA",
         "LAX",
         "SFO",
         "10",
         "12"
        ],
        [
         "2023-09-03",
         "UA",
         "ATL",
         "ORD",
         "0",
         "-10"
        ],
        [
         "2023-09-03",
         "DL",
         "SFO",
         "JFK",
         "5",
         "25"
        ],
        [
         "2023-09-04",
         "AA",
         "JFK",
         "LAX",
         "0",
         "0"
        ],
        [
         "2023-09-04",
         "UA",
         "ORD",
         "ATL",
         "15",
         "20"
        ],
        [
         "2023-09-04",
         "DL",
         "LAX",
         "SFO",
         "-5",
         "-10"
        ],
        [
         "2023-09-05",
         "AA",
         "LAX",
         "JFK",
         "20",
         "25"
        ],
        [
         "2023-09-05",
         "UA",
         "DFW",
         "ATL",
         "0",
         "0"
        ],
        [
         "2023-09-05",
         "DL",
         "JFK",
         "LAX",
         "10",
         "15"
        ]
       ],
       "datasetInfos": [],
       "dbfsResultPath": null,
       "isJsonSchema": true,
       "metadata": {},
       "overflow": false,
       "plotOptions": {
        "customPlotOptions": {},
        "displayType": "table",
        "pivotAggregation": null,
        "pivotColumns": null,
        "xColumns": null,
        "yColumns": null
       },
       "removedWidgets": [],
       "schema": [
        {
         "metadata": "{}",
         "name": "_c0",
         "type": "\"string\""
        },
        {
         "metadata": "{}",
         "name": "_c1",
         "type": "\"string\""
        },
        {
         "metadata": "{}",
         "name": "_c2",
         "type": "\"string\""
        },
        {
         "metadata": "{}",
         "name": "_c3",
         "type": "\"string\""
        },
        {
         "metadata": "{}",
         "name": "_c4",
         "type": "\"string\""
        },
        {
         "metadata": "{}",
         "name": "_c5",
         "type": "\"string\""
        }
       ],
       "type": "table"
      }
     },
     "output_type": "display_data"
    }
   ],
   "source": [
    "# File location and type\n",
    "file_location = \"/FileStore/tables/data.csv\"\n",
    "file_type = \"csv\"\n",
    "\n",
    "# CSV options\n",
    "infer_schema = \"false\"\n",
    "first_row_is_header = \"false\"\n",
    "delimiter = \",\"\n",
    "\n",
    "# The applied options are for CSV files. For other file types, these will be ignored.\n",
    "df = spark.read.format(file_type) \\\n",
    "  .option(\"inferSchema\", infer_schema) \\\n",
    "  .option(\"header\", first_row_is_header) \\\n",
    "  .option(\"sep\", delimiter) \\\n",
    "  .load(file_location)\n",
    "\n",
    "display(df)"
   ]
  },
  {
   "cell_type": "code",
   "execution_count": 0,
   "metadata": {
    "application/vnd.databricks.v1+cell": {
     "cellMetadata": {
      "byteLimit": 2048000,
      "rowLimit": 10000
     },
     "inputWidgets": {},
     "nuid": "bd82bb99-1479-4d5c-be10-8c36df0f1d44",
     "showTitle": false,
     "title": ""
    }
   },
   "outputs": [],
   "source": [
    "# Create a view or table\n",
    "\n",
    "temp_table_name = \"data_csv\"\n",
    "\n",
    "df.createOrReplaceTempView(temp_table_name)"
   ]
  },
  {
   "cell_type": "code",
   "execution_count": 0,
   "metadata": {
    "application/vnd.databricks.v1+cell": {
     "cellMetadata": {
      "byteLimit": 2048000,
      "implicitDf": true,
      "rowLimit": 10000
     },
     "inputWidgets": {},
     "nuid": "b5f66379-6f7f-42ec-8e82-d0e0926a1721",
     "showTitle": false,
     "title": ""
    }
   },
   "outputs": [
    {
     "output_type": "display_data",
     "data": {
      "text/html": [
       "<style scoped>\n",
       "  .table-result-container {\n",
       "    max-height: 300px;\n",
       "    overflow: auto;\n",
       "  }\n",
       "  table, th, td {\n",
       "    border: 1px solid black;\n",
       "    border-collapse: collapse;\n",
       "  }\n",
       "  th, td {\n",
       "    padding: 5px;\n",
       "  }\n",
       "  th {\n",
       "    text-align: left;\n",
       "  }\n",
       "</style><div class='table-result-container'><table class='table-result'><thead style='background-color: white'><tr><th>_c0</th><th>_c1</th><th>_c2</th><th>_c3</th><th>_c4</th><th>_c5</th></tr></thead><tbody><tr><td>FL_DATE</td><td>CARRIER</td><td>ORIGIN</td><td>DEST</td><td>DEP_DELAY</td><td>ARR_DELAY</td></tr><tr><td>2023-09-01</td><td>AA</td><td>ATL</td><td>DFW</td><td>5</td><td>10</td></tr><tr><td>2023-09-01</td><td>UA</td><td>LAX</td><td>JFK</td><td>-3</td><td>0</td></tr><tr><td>2023-09-01</td><td>DL</td><td>SFO</td><td>ORD</td><td>7</td><td>15</td></tr><tr><td>2023-09-02</td><td>AA</td><td>DFW</td><td>LAX</td><td>0</td><td>-5</td></tr><tr><td>2023-09-02</td><td>UA</td><td>JFK</td><td>ATL</td><td>-2</td><td>0</td></tr><tr><td>2023-09-02</td><td>DL</td><td>ORD</td><td>LAX</td><td>20</td><td>30</td></tr><tr><td>2023-09-03</td><td>AA</td><td>LAX</td><td>SFO</td><td>10</td><td>12</td></tr><tr><td>2023-09-03</td><td>UA</td><td>ATL</td><td>ORD</td><td>0</td><td>-10</td></tr><tr><td>2023-09-03</td><td>DL</td><td>SFO</td><td>JFK</td><td>5</td><td>25</td></tr><tr><td>2023-09-04</td><td>AA</td><td>JFK</td><td>LAX</td><td>0</td><td>0</td></tr><tr><td>2023-09-04</td><td>UA</td><td>ORD</td><td>ATL</td><td>15</td><td>20</td></tr><tr><td>2023-09-04</td><td>DL</td><td>LAX</td><td>SFO</td><td>-5</td><td>-10</td></tr><tr><td>2023-09-05</td><td>AA</td><td>LAX</td><td>JFK</td><td>20</td><td>25</td></tr><tr><td>2023-09-05</td><td>UA</td><td>DFW</td><td>ATL</td><td>0</td><td>0</td></tr><tr><td>2023-09-05</td><td>DL</td><td>JFK</td><td>LAX</td><td>10</td><td>15</td></tr></tbody></table></div>"
      ]
     },
     "metadata": {
      "application/vnd.databricks.v1+output": {
       "addedWidgets": {},
       "aggData": [],
       "aggError": "",
       "aggOverflow": false,
       "aggSchema": [],
       "aggSeriesLimitReached": false,
       "aggType": "",
       "arguments": {},
       "columnCustomDisplayInfos": {},
       "data": [
        [
         "FL_DATE",
         "CARRIER",
         "ORIGIN",
         "DEST",
         "DEP_DELAY",
         "ARR_DELAY"
        ],
        [
         "2023-09-01",
         "AA",
         "ATL",
         "DFW",
         "5",
         "10"
        ],
        [
         "2023-09-01",
         "UA",
         "LAX",
         "JFK",
         "-3",
         "0"
        ],
        [
         "2023-09-01",
         "DL",
         "SFO",
         "ORD",
         "7",
         "15"
        ],
        [
         "2023-09-02",
         "AA",
         "DFW",
         "LAX",
         "0",
         "-5"
        ],
        [
         "2023-09-02",
         "UA",
         "JFK",
         "ATL",
         "-2",
         "0"
        ],
        [
         "2023-09-02",
         "DL",
         "ORD",
         "LAX",
         "20",
         "30"
        ],
        [
         "2023-09-03",
         "AA",
         "LAX",
         "SFO",
         "10",
         "12"
        ],
        [
         "2023-09-03",
         "UA",
         "ATL",
         "ORD",
         "0",
         "-10"
        ],
        [
         "2023-09-03",
         "DL",
         "SFO",
         "JFK",
         "5",
         "25"
        ],
        [
         "2023-09-04",
         "AA",
         "JFK",
         "LAX",
         "0",
         "0"
        ],
        [
         "2023-09-04",
         "UA",
         "ORD",
         "ATL",
         "15",
         "20"
        ],
        [
         "2023-09-04",
         "DL",
         "LAX",
         "SFO",
         "-5",
         "-10"
        ],
        [
         "2023-09-05",
         "AA",
         "LAX",
         "JFK",
         "20",
         "25"
        ],
        [
         "2023-09-05",
         "UA",
         "DFW",
         "ATL",
         "0",
         "0"
        ],
        [
         "2023-09-05",
         "DL",
         "JFK",
         "LAX",
         "10",
         "15"
        ]
       ],
       "datasetInfos": [],
       "dbfsResultPath": null,
       "isJsonSchema": true,
       "metadata": {
        "dataframeName": "_sqldf",
        "executionCount": 3
       },
       "overflow": false,
       "plotOptions": {
        "customPlotOptions": {},
        "displayType": "table",
        "pivotAggregation": null,
        "pivotColumns": null,
        "xColumns": null,
        "yColumns": null
       },
       "removedWidgets": [],
       "schema": [
        {
         "metadata": "{}",
         "name": "_c0",
         "type": "\"string\""
        },
        {
         "metadata": "{}",
         "name": "_c1",
         "type": "\"string\""
        },
        {
         "metadata": "{}",
         "name": "_c2",
         "type": "\"string\""
        },
        {
         "metadata": "{}",
         "name": "_c3",
         "type": "\"string\""
        },
        {
         "metadata": "{}",
         "name": "_c4",
         "type": "\"string\""
        },
        {
         "metadata": "{}",
         "name": "_c5",
         "type": "\"string\""
        }
       ],
       "type": "table"
      }
     },
     "output_type": "display_data"
    }
   ],
   "source": [
    "%sql\n",
    "\n",
    "/* Query the created temp table in a SQL cell */\n",
    "\n",
    "select * from `data_csv`"
   ]
  },
  {
   "cell_type": "code",
   "execution_count": 0,
   "metadata": {
    "application/vnd.databricks.v1+cell": {
     "cellMetadata": {
      "byteLimit": 2048000,
      "rowLimit": 10000
     },
     "inputWidgets": {},
     "nuid": "db9631f6-bb4a-42ca-8a3c-0d48af932331",
     "showTitle": false,
     "title": ""
    }
   },
   "outputs": [],
   "source": [
    "# With this registered as a temp view, it will only be available to this particular notebook. If you'd like other users to be able to query this table, you can also create a table from the DataFrame.\n",
    "# Once saved, this table will persist across cluster restarts as well as allow various users across different notebooks to query this data.\n",
    "# To do so, choose your table name and uncomment the bottom line.\n",
    "\n",
    "permanent_table_name = \"data_csv\"\n",
    "\n",
    "# df.write.format(\"parquet\").saveAsTable(permanent_table_name)"
   ]
  }
 ],
 "metadata": {
  "application/vnd.databricks.v1+notebook": {
   "dashboards": [],
   "environmentMetadata": null,
   "language": "python",
   "notebookMetadata": {
    "mostRecentlyExecutedCommandWithImplicitDF": {
     "commandId": 505874471459866,
     "dataframes": [
      "_sqldf"
     ]
    },
    "pythonIndentUnit": 4
   },
   "notebookName": "csv load DBFS",
   "widgets": {}
  }
 },
 "nbformat": 4,
 "nbformat_minor": 0
}
