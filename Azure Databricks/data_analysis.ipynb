{
 "cells": [
  {
   "cell_type": "code",
   "execution_count": 0,
   "metadata": {
    "application/vnd.databricks.v1+cell": {
     "cellMetadata": {},
     "inputWidgets": {},
     "nuid": "29c4de93-04d6-47e7-9b64-d0bbd152d45e",
     "showTitle": false,
     "title": ""
    }
   },
   "outputs": [],
   "source": [
    "#Read from transformed Delta table \n",
    "df =  spark.read.format(\"delta\").load(\"/delta/transformed_data\")\n",
    "\n",
    "#Perform analysis: Calculate the average salary \n",
    "df.groupBy().avg(\"Salary\").show()\n",
    "\n",
    "print(\"Data analysis complete.\")"
   ]
  }
 ],
 "metadata": {
  "application/vnd.databricks.v1+notebook": {
   "dashboards": [],
   "environmentMetadata": null,
   "language": "python",
   "notebookMetadata": {
    "pythonIndentUnit": 4
   },
   "notebookName": "data_analysis",
   "widgets": {}
  }
 },
 "nbformat": 4,
 "nbformat_minor": 0
}
