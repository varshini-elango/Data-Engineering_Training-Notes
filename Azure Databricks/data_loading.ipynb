{
 "cells": [
  {
   "cell_type": "code",
   "execution_count": 0,
   "metadata": {
    "application/vnd.databricks.v1+cell": {
     "cellMetadata": {},
     "inputWidgets": {},
     "nuid": "bb212e76-6e3c-4a50-8f1b-4c45f34010c1",
     "showTitle": false,
     "title": ""
    }
   },
   "outputs": [],
   "source": [
    "from pyspark.sql import SparkSession \n",
    "from pyspark.sql.functions import col\n",
    "\n",
    "# Initialize Spark Session\n",
    "spark SparkSession.builder.appName(\"DataLoading\").getOrCreate()\n",
    "\n",
    "# Sample data\n",
    "data = \n",
    "[(1, \"Abdullah\", 1000), (2, \"Sharma\", 1500), (3, \"Suman\", 1200)] \n",
    "columns [\"ID\", \"Name\", \"Salary\"]\n",
    "#Create DataFrame \n",
    "df = spark.createDataFrame(data, columns)\n",
    "\n",
    "# Write DataFrame to Delta table \n",
    "df.write.format(\"delta\").mode(\"overwrite\").save(\"/delta/sample_data\")\n",
    "\n",
    "print(\"Data loaded and saved as Delta table.\")"
   ]
  }
 ],
 "metadata": {
  "application/vnd.databricks.v1+notebook": {
   "dashboards": [],
   "environmentMetadata": null,
   "language": "python",
   "notebookMetadata": {
    "mostRecentlyExecutedCommandWithImplicitDF": {
     "commandId": 2289039131618906,
     "dataframes": [
      "_sqldf"
     ]
    },
    "pythonIndentUnit": 4
   },
   "notebookName": "data_loading",
   "widgets": {}
  }
 },
 "nbformat": 4,
 "nbformat_minor": 0
}
