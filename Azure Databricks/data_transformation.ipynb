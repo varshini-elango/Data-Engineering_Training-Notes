{
 "cells": [
  {
   "cell_type": "code",
   "execution_count": 0,
   "metadata": {
    "application/vnd.databricks.v1+cell": {
     "cellMetadata": {},
     "inputWidgets": {},
     "nuid": "135b93cc-8023-4063-93fc-2c3637837f70",
     "showTitle": false,
     "title": ""
    }
   },
   "outputs": [],
   "source": [
    "from pyspark.sql.functions import col\n",
    "\n",
    "#Read from Delta table \n",
    "df =  spark.read.format(\"delta\").load(\"/delta/sample_data\")\n",
    "\n",
    "#Apply transformation (increase salary by 10%) \n",
    "df_transformed = df.withColumn(\"Salary\", col(\"Salary\") 1.1)\n",
    "\n",
    "#Save the transformed data to Delta \n",
    "df_transformed.write.format(\"delta\").mode(\"overwrite\").save(\"/delta/transformed_data\")\n",
    "\n",
    "print(\"Data transformed and saved.\")"
   ]
  }
 ],
 "metadata": {
  "application/vnd.databricks.v1+notebook": {
   "dashboards": [],
   "environmentMetadata": null,
   "language": "python",
   "notebookMetadata": {
    "pythonIndentUnit": 4
   },
   "notebookName": "data_transformation",
   "widgets": {}
  }
 },
 "nbformat": 4,
 "nbformat_minor": 0
}
