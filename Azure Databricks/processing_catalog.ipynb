{
 "cells": [
  {
   "cell_type": "code",
   "execution_count": 0,
   "metadata": {
    "application/vnd.databricks.v1+cell": {
     "cellMetadata": {
      "byteLimit": 2048000,
      "implicitDf": true,
      "rowLimit": 10000
     },
     "inputWidgets": {},
     "nuid": "08988e75-1872-47fe-bbec-e9cd6b6b1b48",
     "showTitle": false,
     "title": ""
    }
   },
   "outputs": [
    {
     "output_type": "display_data",
     "data": {
      "text/html": [
       "<style scoped>\n",
       "  .table-result-container {\n",
       "    max-height: 300px;\n",
       "    overflow: auto;\n",
       "  }\n",
       "  table, th, td {\n",
       "    border: 1px solid black;\n",
       "    border-collapse: collapse;\n",
       "  }\n",
       "  th, td {\n",
       "    padding: 5px;\n",
       "  }\n",
       "  th {\n",
       "    text-align: left;\n",
       "  }\n",
       "</style><div class='table-result-container'><table class='table-result'><thead style='background-color: white'><tr><th>database</th><th>tableName</th><th>isTemporary</th></tr></thead><tbody><tr><td>catalog_example</td><td>nyc_taxi_trips</td><td>false</td></tr></tbody></table></div>"
      ]
     },
     "metadata": {
      "application/vnd.databricks.v1+output": {
       "addedWidgets": {},
       "aggData": [],
       "aggError": "",
       "aggOverflow": false,
       "aggSchema": [],
       "aggSeriesLimitReached": false,
       "aggType": "",
       "arguments": {},
       "columnCustomDisplayInfos": {},
       "data": [
        [
         "catalog_example",
         "nyc_taxi_trips",
         false
        ]
       ],
       "datasetInfos": [],
       "dbfsResultPath": null,
       "isJsonSchema": true,
       "metadata": {},
       "overflow": false,
       "plotOptions": {
        "customPlotOptions": {},
        "displayType": "table",
        "pivotAggregation": null,
        "pivotColumns": null,
        "xColumns": null,
        "yColumns": null
       },
       "removedWidgets": [],
       "schema": [
        {
         "metadata": "{}",
         "name": "database",
         "type": "\"string\""
        },
        {
         "metadata": "{}",
         "name": "tableName",
         "type": "\"string\""
        },
        {
         "metadata": "{}",
         "name": "isTemporary",
         "type": "\"boolean\""
        }
       ],
       "type": "table"
      }
     },
     "output_type": "display_data"
    }
   ],
   "source": [
    "%sql\n",
    "--Create a Unity Catalog database \n",
    "CREATE DATABASE IF NOT EXISTS catalog_example;\n",
    "\n",
    "-- Use the database \n",
    "USE catalog_example;\n",
    "\n",
    "--Create a table using the nyctaxi data \n",
    "CREATE TABLE nyc_taxi_trips \n",
    "USING DELTA \n",
    "AS SELECT * FROM samples.nyctaxi.trips;\n",
    "\n",
    "--Show the created tables \n",
    "SHOW TABLES IN catalog_example;"
   ]
  },
  {
   "cell_type": "code",
   "execution_count": 0,
   "metadata": {
    "application/vnd.databricks.v1+cell": {
     "cellMetadata": {
      "byteLimit": 2048000,
      "rowLimit": 10000
     },
     "inputWidgets": {},
     "nuid": "69d2dc13-2d05-4649-b319-2ebfc9fea2c3",
     "showTitle": false,
     "title": ""
    }
   },
   "outputs": [
    {
     "output_type": "stream",
     "name": "stdout",
     "output_type": "stream",
     "text": [
      "+----------------+--------------+-----------+\n|        database|     tableName|isTemporary|\n+----------------+--------------+-----------+\n|catalog_example1|nyc_taxi_trips|      false|\n+----------------+--------------+-----------+\n\n"
     ]
    }
   ],
   "source": [
    "#Switch to the catalog and create a database \n",
    "spark.sql(\"CREATE DATABASE IF NOT EXISTS catalog_example1\") \n",
    "spark.sql(\"USE catalog_example1\")\n",
    "\n",
    "# Create a new table using the nyctaxi data \n",
    "df = spark.table(\"samples.nyctaxi.trips\") \n",
    "df.write.format(\"delta\").saveAsTable(\"catalog_example1.nyc_taxi_trips\")\n",
    "\n",
    "# Display the created tables \n",
    "spark.sql(\"SHOW TABLES\").show()"
   ]
  },
  {
   "cell_type": "code",
   "execution_count": 0,
   "metadata": {
    "application/vnd.databricks.v1+cell": {
     "cellMetadata": {
      "byteLimit": 2048000,
      "implicitDf": true,
      "rowLimit": 10000
     },
     "inputWidgets": {},
     "nuid": "43859dc0-a8c7-438c-9214-8708343855b2",
     "showTitle": false,
     "title": ""
    }
   },
   "outputs": [
    {
     "output_type": "display_data",
     "data": {
      "text/html": [
       "<style scoped>\n",
       "  .table-result-container {\n",
       "    max-height: 300px;\n",
       "    overflow: auto;\n",
       "  }\n",
       "  table, th, td {\n",
       "    border: 1px solid black;\n",
       "    border-collapse: collapse;\n",
       "  }\n",
       "  th, td {\n",
       "    padding: 5px;\n",
       "  }\n",
       "  th {\n",
       "    text-align: left;\n",
       "  }\n",
       "</style><div class='table-result-container'><table class='table-result'><thead style='background-color: white'><tr><th>tpep_pickup_datetime</th><th>tpep_dropoff_datetime</th><th>trip_distance</th><th>fare_amount</th><th>pickup_zip</th><th>dropoff_zip</th></tr></thead><tbody><tr><td>2016-02-16T22:40:45.000+0000</td><td>2016-02-16T22:59:25.000+0000</td><td>5.35</td><td>18.5</td><td>10003</td><td>11238</td></tr><tr><td>2016-02-05T16:06:44.000+0000</td><td>2016-02-05T16:26:03.000+0000</td><td>6.5</td><td>21.5</td><td>10282</td><td>10001</td></tr><tr><td>2016-02-08T07:39:25.000+0000</td><td>2016-02-08T07:44:14.000+0000</td><td>0.9</td><td>5.5</td><td>10119</td><td>10003</td></tr><tr><td>2016-02-29T22:25:33.000+0000</td><td>2016-02-29T22:38:09.000+0000</td><td>3.5</td><td>13.5</td><td>10001</td><td>11222</td></tr><tr><td>2016-02-03T17:21:02.000+0000</td><td>2016-02-03T17:23:24.000+0000</td><td>0.3</td><td>3.5</td><td>10028</td><td>10028</td></tr><tr><td>2016-02-10T00:47:44.000+0000</td><td>2016-02-10T00:53:04.000+0000</td><td>0.0</td><td>5.0</td><td>10038</td><td>10005</td></tr><tr><td>2016-02-19T03:24:25.000+0000</td><td>2016-02-19T03:44:56.000+0000</td><td>6.57</td><td>21.5</td><td>10001</td><td>11377</td></tr><tr><td>2016-02-02T14:05:23.000+0000</td><td>2016-02-02T14:23:07.000+0000</td><td>1.08</td><td>11.5</td><td>10103</td><td>10167</td></tr><tr><td>2016-02-20T15:42:20.000+0000</td><td>2016-02-20T15:50:40.000+0000</td><td>0.8</td><td>7.0</td><td>10003</td><td>10011</td></tr><tr><td>2016-02-14T16:19:53.000+0000</td><td>2016-02-14T16:32:10.000+0000</td><td>1.3</td><td>9.0</td><td>10199</td><td>10020</td></tr></tbody></table></div>"
      ]
     },
     "metadata": {
      "application/vnd.databricks.v1+output": {
       "addedWidgets": {},
       "aggData": [],
       "aggError": "",
       "aggOverflow": false,
       "aggSchema": [],
       "aggSeriesLimitReached": false,
       "aggType": "",
       "arguments": {},
       "columnCustomDisplayInfos": {},
       "data": [
        [
         "2016-02-16T22:40:45.000+0000",
         "2016-02-16T22:59:25.000+0000",
         5.35,
         18.5,
         10003,
         11238
        ],
        [
         "2016-02-05T16:06:44.000+0000",
         "2016-02-05T16:26:03.000+0000",
         6.5,
         21.5,
         10282,
         10001
        ],
        [
         "2016-02-08T07:39:25.000+0000",
         "2016-02-08T07:44:14.000+0000",
         0.9,
         5.5,
         10119,
         10003
        ],
        [
         "2016-02-29T22:25:33.000+0000",
         "2016-02-29T22:38:09.000+0000",
         3.5,
         13.5,
         10001,
         11222
        ],
        [
         "2016-02-03T17:21:02.000+0000",
         "2016-02-03T17:23:24.000+0000",
         0.3,
         3.5,
         10028,
         10028
        ],
        [
         "2016-02-10T00:47:44.000+0000",
         "2016-02-10T00:53:04.000+0000",
         0.0,
         5.0,
         10038,
         10005
        ],
        [
         "2016-02-19T03:24:25.000+0000",
         "2016-02-19T03:44:56.000+0000",
         6.57,
         21.5,
         10001,
         11377
        ],
        [
         "2016-02-02T14:05:23.000+0000",
         "2016-02-02T14:23:07.000+0000",
         1.08,
         11.5,
         10103,
         10167
        ],
        [
         "2016-02-20T15:42:20.000+0000",
         "2016-02-20T15:50:40.000+0000",
         0.8,
         7.0,
         10003,
         10011
        ],
        [
         "2016-02-14T16:19:53.000+0000",
         "2016-02-14T16:32:10.000+0000",
         1.3,
         9.0,
         10199,
         10020
        ]
       ],
       "datasetInfos": [],
       "dbfsResultPath": null,
       "isJsonSchema": true,
       "metadata": {},
       "overflow": false,
       "plotOptions": {
        "customPlotOptions": {},
        "displayType": "table",
        "pivotAggregation": null,
        "pivotColumns": null,
        "xColumns": null,
        "yColumns": null
       },
       "removedWidgets": [],
       "schema": [
        {
         "metadata": "{}",
         "name": "tpep_pickup_datetime",
         "type": "\"timestamp\""
        },
        {
         "metadata": "{}",
         "name": "tpep_dropoff_datetime",
         "type": "\"timestamp\""
        },
        {
         "metadata": "{}",
         "name": "trip_distance",
         "type": "\"double\""
        },
        {
         "metadata": "{}",
         "name": "fare_amount",
         "type": "\"double\""
        },
        {
         "metadata": "{}",
         "name": "pickup_zip",
         "type": "\"integer\""
        },
        {
         "metadata": "{}",
         "name": "dropoff_zip",
         "type": "\"integer\""
        }
       ],
       "type": "table"
      }
     },
     "output_type": "display_data"
    }
   ],
   "source": [
    "%sql\n",
    "--Select the first 10 rows from the nyc_taxi_trips table\n",
    "SELECT * FROM catalog_example.nyc_taxi_trips\n",
    "LIMIT 10;"
   ]
  },
  {
   "cell_type": "code",
   "execution_count": 0,
   "metadata": {
    "application/vnd.databricks.v1+cell": {
     "cellMetadata": {
      "byteLimit": 2048000,
      "rowLimit": 10000
     },
     "inputWidgets": {},
     "nuid": "9f9a8f98-0844-43a6-b713-77ab4f9a7af9",
     "showTitle": false,
     "title": ""
    }
   },
   "outputs": [
    {
     "output_type": "stream",
     "name": "stdout",
     "output_type": "stream",
     "text": [
      "+--------------------+---------------------+-------------+-----------+----------+-----------+\n|tpep_pickup_datetime|tpep_dropoff_datetime|trip_distance|fare_amount|pickup_zip|dropoff_zip|\n+--------------------+---------------------+-------------+-----------+----------+-----------+\n| 2016-02-16 22:40:45|  2016-02-16 22:59:25|         5.35|       18.5|     10003|      11238|\n| 2016-02-05 16:06:44|  2016-02-05 16:26:03|          6.5|       21.5|     10282|      10001|\n| 2016-02-08 07:39:25|  2016-02-08 07:44:14|          0.9|        5.5|     10119|      10003|\n| 2016-02-29 22:25:33|  2016-02-29 22:38:09|          3.5|       13.5|     10001|      11222|\n| 2016-02-03 17:21:02|  2016-02-03 17:23:24|          0.3|        3.5|     10028|      10028|\n| 2016-02-10 00:47:44|  2016-02-10 00:53:04|          0.0|        5.0|     10038|      10005|\n| 2016-02-19 03:24:25|  2016-02-19 03:44:56|         6.57|       21.5|     10001|      11377|\n| 2016-02-02 14:05:23|  2016-02-02 14:23:07|         1.08|       11.5|     10103|      10167|\n| 2016-02-20 15:42:20|  2016-02-20 15:50:40|          0.8|        7.0|     10003|      10011|\n| 2016-02-14 16:19:53|  2016-02-14 16:32:10|          1.3|        9.0|     10199|      10020|\n+--------------------+---------------------+-------------+-----------+----------+-----------+\nonly showing top 10 rows\n\n"
     ]
    }
   ],
   "source": [
    "# Read data from Unity Catalog using PySpark \n",
    "df = spark.table(\"catalog_example.nyc_taxi_trips\") \n",
    "df.show(10)"
   ]
  },
  {
   "cell_type": "code",
   "execution_count": 0,
   "metadata": {
    "application/vnd.databricks.v1+cell": {
     "cellMetadata": {},
     "inputWidgets": {},
     "nuid": "5f04fa93-1a30-4f57-bdce-341b34c21657",
     "showTitle": false,
     "title": ""
    }
   },
   "outputs": [],
   "source": [
    "%sql\n",
    "--grant read access to a specific user or group\n",
    "GRANT SELECT ON catalog_example.nyc_taxi_trips TO 'varshini@gmail.com';\n",
    "\n",
    "--grant full access to a user\n",
    "GRANT ALL PRIVILEGES ON catalog_example.nyc_taxi_trips TO 'varsh@gamil.com'"
   ]
  },
  {
   "cell_type": "code",
   "execution_count": 0,
   "metadata": {
    "application/vnd.databricks.v1+cell": {
     "cellMetadata": {},
     "inputWidgets": {},
     "nuid": "a217f49d-55ae-4f8b-81d2-c3cd37a57e5b",
     "showTitle": false,
     "title": ""
    }
   },
   "outputs": [],
   "source": []
  }
 ],
 "metadata": {
  "application/vnd.databricks.v1+notebook": {
   "dashboards": [],
   "environmentMetadata": null,
   "language": "python",
   "notebookMetadata": {
    "mostRecentlyExecutedCommandWithImplicitDF": {
     "commandId": 2289039131618906,
     "dataframes": [
      "_sqldf"
     ]
    },
    "pythonIndentUnit": 4
   },
   "notebookName": "processing_catalog",
   "widgets": {}
  }
 },
 "nbformat": 4,
 "nbformat_minor": 0
}
