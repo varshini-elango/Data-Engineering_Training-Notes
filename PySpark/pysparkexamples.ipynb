{
  "cells": [
    {
      "cell_type": "code",
      "execution_count": null,
      "metadata": {
        "colab": {
          "base_uri": "https://localhost:8080/"
        },
        "id": "H4etoQP2U4P-",
        "outputId": "39c3ae42-b232-4a27-86d8-bb0f015f9485"
      },
      "outputs": [
        {
          "name": "stdout",
          "output_type": "stream",
          "text": [
            "Requirement already satisfied: pyspark in /usr/local/lib/python3.10/dist-packages (3.5.2)\n",
            "Requirement already satisfied: py4j==0.10.9.7 in /usr/local/lib/python3.10/dist-packages (from pyspark) (0.10.9.7)\n"
          ]
        }
      ],
      "source": [
        "pip install pyspark"
      ]
    },
    {
      "cell_type": "code",
      "execution_count": null,
      "metadata": {
        "colab": {
          "base_uri": "https://localhost:8080/"
        },
        "collapsed": true,
        "id": "JkK3pUlYU3fl",
        "outputId": "be16cde7-a350-4a4a-d02a-2fefb36ab8b0"
      },
      "outputs": [
        {
          "name": "stdout",
          "output_type": "stream",
          "text": [
            "<pyspark.sql.session.SparkSession object at 0x792c90adf0d0>\n"
          ]
        }
      ],
      "source": [
        "from pyspark.sql import SparkSession\n",
        "#initialize sparkSession\n",
        "spark =  SparkSession.builder\\\n",
        "    .appName(\"Pyspark notebook example\")\\\n",
        "    .getOrCreate()\n",
        "\n",
        "print(spark)"
      ]
    },
    {
      "cell_type": "code",
      "execution_count": null,
      "metadata": {
        "colab": {
          "base_uri": "https://localhost:8080/"
        },
        "collapsed": true,
        "id": "PF4S7VbSV6RP",
        "outputId": "7f5b701e-40b7-4163-abff-6c1a91cab346"
      },
      "outputs": [
        {
          "name": "stdout",
          "output_type": "stream",
          "text": [
            "+---------------+-----------+------+\n",
            "|           Name| Department|Salary|\n",
            "+---------------+-----------+------+\n",
            "|       John Doe|Engineering| 75000|\n",
            "|     Jane Smith|  Marketing| 60000|\n",
            "|      Sam Brown|Engineering| 80000|\n",
            "|    Emily Davis|         HR| 50000|\n",
            "|Michael Johnson|  Marketing| 70000|\n",
            "+---------------+-----------+------+\n",
            "\n"
          ]
        }
      ],
      "source": [
        "from pyspark.sql import SparkSession\n",
        "from pyspark.sql.functions import col\n",
        "#Initialize SparkSession\n",
        "spark = SparkSession.builder \\\n",
        ".appName(\"PySpark DataFrame Example\") \\\n",
        ".getOrCreate()\n",
        "#Sample data representing employees\n",
        "data = [\n",
        "(\"John Doe\", \"Engineering\", 75000),\n",
        "(\"Jane Smith\", \"Marketing\", 60000),\n",
        "(\"Sam Brown\", \"Engineering\", 80000),\n",
        "(\"Emily Davis\", \"HR\", 50000),\n",
        "(\"Michael Johnson\", \"Marketing\", 70000),\n",
        "]\n",
        "#Define schema for DataFrame\n",
        "columns= [\"Name\", \"Department\", \"Salary\"]\n",
        "#Create DataFrame\n",
        "df = spark.createDataFrame(data, schema=columns)\n",
        "#Show the DataFrame\n",
        "df.show()"
      ]
    },
    {
      "cell_type": "code",
      "execution_count": null,
      "metadata": {
        "colab": {
          "base_uri": "https://localhost:8080/"
        },
        "collapsed": true,
        "id": "8Aip9uf5Yjm4",
        "outputId": "91f04421-bf62-4f87-82e6-62ba3594c000"
      },
      "outputs": [
        {
          "name": "stdout",
          "output_type": "stream",
          "text": [
            "Employees with Salary > 65,000:\n",
            "+---------------+-----------+------+\n",
            "|           Name| Department|Salary|\n",
            "+---------------+-----------+------+\n",
            "|       John Doe|Engineering| 75000|\n",
            "|      Sam Brown|Engineering| 80000|\n",
            "|Michael Johnson|  Marketing| 70000|\n",
            "+---------------+-----------+------+\n",
            "\n"
          ]
        }
      ],
      "source": [
        "\n",
        "# Filter: Select employees with a salary greater than 65,000\n",
        "high_salary_df = df.filter (col (\"Salary\") > 65000)\n",
        "print(\"Employees with Salary > 65,000:\")\n",
        "high_salary_df.show()"
      ]
    },
    {
      "cell_type": "code",
      "execution_count": null,
      "metadata": {
        "colab": {
          "base_uri": "https://localhost:8080/"
        },
        "collapsed": true,
        "id": "8abCBdVlZZrS",
        "outputId": "0e7462a1-10f1-49c1-ecdf-d525c918cd8c"
      },
      "outputs": [
        {
          "name": "stdout",
          "output_type": "stream",
          "text": [
            "Average Salary by Department:\n",
            "+-----------+-----------+\n",
            "| Department|avg(Salary)|\n",
            "+-----------+-----------+\n",
            "|Engineering|    77500.0|\n",
            "|  Marketing|    65000.0|\n",
            "|         HR|    50000.0|\n",
            "+-----------+-----------+\n",
            "\n"
          ]
        }
      ],
      "source": [
        "# Group by Department and calculate the average salary\n",
        "avg_salary_df = df.groupBy(\"Department\").avg(\"Salary\")\n",
        "print(\"Average Salary by Department:\")\n",
        "avg_salary_df.show()"
      ]
    },
    {
      "cell_type": "code",
      "execution_count": null,
      "metadata": {
        "colab": {
          "base_uri": "https://localhost:8080/"
        },
        "collapsed": true,
        "id": "0O6Jq2L08rB3",
        "outputId": "df328db9-edab-4eb5-ea4e-6ca579bdf8ec"
      },
      "outputs": [
        {
          "name": "stdout",
          "output_type": "stream",
          "text": [
            "Customers DataFrame:\n",
            "+----------+-----+---------+\n",
            "|CustomerID| Name|     City|\n",
            "+----------+-----+---------+\n",
            "|         1| Ravi|   Mumbai|\n",
            "|         2|Priya|    Delhi|\n",
            "|         3|Vijay|Bangalore|\n",
            "|         4|Anita|  Chennai|\n",
            "|         5|  Raj|Hyderabad|\n",
            "+----------+-----+---------+\n",
            "\n",
            "Transactions DataFrame:\n",
            "+-------------+----------+--------+\n",
            "|TransactionID|CustomerID|  Amount|\n",
            "+-------------+----------+--------+\n",
            "|            1|         1| 10000.5|\n",
            "|            2|         2|20000.75|\n",
            "|            3|         1|15000.25|\n",
            "|            4|         3| 30000.0|\n",
            "|            5|         2| 40000.5|\n",
            "|            6|         4| 25000.0|\n",
            "|            7|         5|18000.75|\n",
            "|            8|         1|  5000.0|\n",
            "+-------------+----------+--------+\n",
            "\n"
          ]
        }
      ],
      "source": [
        "from pyspark.sql import SparkSession\n",
        "from pyspark.sql.functions import col\n",
        "#Initialize SparkSession\n",
        "spark = SparkSession.builder\\\n",
        ".appName(\"Customer Transactions Analysis\") \\\n",
        ".getOrCreate ()\n",
        "# Sample data for customers\n",
        "customers = [\n",
        "(1, \"Ravi\", \"Mumbai\"),\n",
        "(2, \"Priya\", \"Delhi\"),\n",
        "(3, \"Vijay\", \"Bangalore\"),\n",
        "(4, \"Anita\", \"Chennai\"),\n",
        "(5, \"Raj\", \"Hyderabad\"),\n",
        "]\n",
        "# Sample data for transactions\n",
        "transactions = [\n",
        "(1, 1, 10000.50),\n",
        "(2, 2, 20000.75),\n",
        "(3, 1, 15000.25),\n",
        "(4, 3, 30000.00),\n",
        "(5, 2, 40000.50),\n",
        "(6, 4, 25000.00),\n",
        "(7, 5, 18000.75),\n",
        "(8, 1, 5000.00),\n",
        "]\n",
        "\n",
        "#Define schema for DataFrames\n",
        "customer_columns = [\"CustomerID\", \"Name\", \"City\"]\n",
        "transaction_columns = [\"TransactionID\", \"CustomerID\", \"Amount\"]\n",
        "#Create DataFrames\n",
        "customer_df = spark.createDataFrame (customers, schema=customer_columns)\n",
        "transaction_df = spark.createDataFrame (transactions, schema=transaction_columns)\n",
        "\n",
        "#Show the DataFrames\n",
        "print(\"Customers DataFrame:\")\n",
        "customer_df.show()\n",
        "print(\"Transactions DataFrame:\")\n",
        "transaction_df.show()"
      ]
    },
    {
      "cell_type": "code",
      "execution_count": null,
      "metadata": {
        "colab": {
          "base_uri": "https://localhost:8080/",
          "height": 963
        },
        "collapsed": true,
        "id": "SACY9KBpE5Ky",
        "outputId": "60c1ec01-aff4-4ed1-b678-14c9c8a04204"
      },
      "outputs": [
        {
          "name": "stdout",
          "output_type": "stream",
          "text": [
            "Customer Transactions DataFrame:\n",
            "+----------+-----+---------+-------------+--------+\n",
            "|CustomerID| Name|     City|TransactionID|  Amount|\n",
            "+----------+-----+---------+-------------+--------+\n",
            "|         1| Ravi|   Mumbai|            1| 10000.5|\n",
            "|         1| Ravi|   Mumbai|            3|15000.25|\n",
            "|         1| Ravi|   Mumbai|            8|  5000.0|\n",
            "|         2|Priya|    Delhi|            2|20000.75|\n",
            "|         2|Priya|    Delhi|            5| 40000.5|\n",
            "|         3|Vijay|Bangalore|            4| 30000.0|\n",
            "|         4|Anita|  Chennai|            6| 25000.0|\n",
            "|         5|  Raj|Hyderabad|            7|18000.75|\n",
            "+----------+-----+---------+-------------+--------+\n",
            "\n",
            "Total Amount Spent by Each Customer:\n",
            "+-----+-----------+\n",
            "| Name|sum(Amount)|\n",
            "+-----+-----------+\n",
            "| Ravi|   30000.75|\n",
            "|Priya|   60001.25|\n",
            "|Vijay|    30000.0|\n",
            "|Anita|    25000.0|\n",
            "|  Raj|   18000.75|\n",
            "+-----+-----------+\n",
            "\n"
          ]
        },
        {
          "ename": "AnalysisException",
          "evalue": "[UNRESOLVED_COLUMN.WITH_SUGGESTION] A column or function parameter with name `TotalSpent` cannot be resolved. Did you mean one of the following? [`Name`, `sum(Amount)`].;\n'Filter ('TotalSpent > 30000)\n+- Aggregate [Name#55], [Name#55, sum(Amount#62) AS sum(Amount)#226]\n   +- Project [CustomerID#54L, Name#55, City#56, TransactionID#60L, Amount#62]\n      +- Join Inner, (CustomerID#54L = CustomerID#61L)\n         :- LogicalRDD [CustomerID#54L, Name#55, City#56], false\n         +- LogicalRDD [TransactionID#60L, CustomerID#61L, Amount#62], false\n",
          "output_type": "error",
          "traceback": [
            "\u001b[0;31m---------------------------------------------------------------------------\u001b[0m",
            "\u001b[0;31mAnalysisException\u001b[0m                         Traceback (most recent call last)",
            "\u001b[0;32m<ipython-input-12-ab289b7fcfdb>\u001b[0m in \u001b[0;36m<cell line: 12>\u001b[0;34m()\u001b[0m\n\u001b[1;32m     10\u001b[0m \u001b[0;34m\u001b[0m\u001b[0m\n\u001b[1;32m     11\u001b[0m \u001b[0;31m## Find customers who have spent more than ₹30,000\u001b[0m\u001b[0;34m\u001b[0m\u001b[0;34m\u001b[0m\u001b[0m\n\u001b[0;32m---> 12\u001b[0;31m \u001b[0mbig_spenders_df\u001b[0m \u001b[0;34m=\u001b[0m \u001b[0mtotal_spent_df\u001b[0m\u001b[0;34m.\u001b[0m\u001b[0mfilter\u001b[0m \u001b[0;34m(\u001b[0m\u001b[0mcol\u001b[0m \u001b[0;34m(\u001b[0m\u001b[0;34m\"TotalSpent\"\u001b[0m\u001b[0;34m)\u001b[0m \u001b[0;34m>\u001b[0m \u001b[0;36m30000\u001b[0m\u001b[0;34m)\u001b[0m\u001b[0;34m\u001b[0m\u001b[0;34m\u001b[0m\u001b[0m\n\u001b[0m\u001b[1;32m     13\u001b[0m \u001b[0mprint\u001b[0m\u001b[0;34m(\u001b[0m\u001b[0;34m\"Customers Who Spent More Than ₹30,000:\"\u001b[0m\u001b[0;34m)\u001b[0m\u001b[0;34m\u001b[0m\u001b[0;34m\u001b[0m\u001b[0m\n\u001b[1;32m     14\u001b[0m \u001b[0mbig_spenders_df\u001b[0m\u001b[0;34m.\u001b[0m\u001b[0mshow\u001b[0m\u001b[0;34m(\u001b[0m\u001b[0;34m)\u001b[0m\u001b[0;34m\u001b[0m\u001b[0;34m\u001b[0m\u001b[0m\n",
            "\u001b[0;32m/usr/local/lib/python3.10/dist-packages/pyspark/sql/dataframe.py\u001b[0m in \u001b[0;36mfilter\u001b[0;34m(self, condition)\u001b[0m\n\u001b[1;32m   3329\u001b[0m             \u001b[0mjdf\u001b[0m \u001b[0;34m=\u001b[0m \u001b[0mself\u001b[0m\u001b[0;34m.\u001b[0m\u001b[0m_jdf\u001b[0m\u001b[0;34m.\u001b[0m\u001b[0mfilter\u001b[0m\u001b[0;34m(\u001b[0m\u001b[0mcondition\u001b[0m\u001b[0;34m)\u001b[0m\u001b[0;34m\u001b[0m\u001b[0;34m\u001b[0m\u001b[0m\n\u001b[1;32m   3330\u001b[0m         \u001b[0;32melif\u001b[0m \u001b[0misinstance\u001b[0m\u001b[0;34m(\u001b[0m\u001b[0mcondition\u001b[0m\u001b[0;34m,\u001b[0m \u001b[0mColumn\u001b[0m\u001b[0;34m)\u001b[0m\u001b[0;34m:\u001b[0m\u001b[0;34m\u001b[0m\u001b[0;34m\u001b[0m\u001b[0m\n\u001b[0;32m-> 3331\u001b[0;31m             \u001b[0mjdf\u001b[0m \u001b[0;34m=\u001b[0m \u001b[0mself\u001b[0m\u001b[0;34m.\u001b[0m\u001b[0m_jdf\u001b[0m\u001b[0;34m.\u001b[0m\u001b[0mfilter\u001b[0m\u001b[0;34m(\u001b[0m\u001b[0mcondition\u001b[0m\u001b[0;34m.\u001b[0m\u001b[0m_jc\u001b[0m\u001b[0;34m)\u001b[0m\u001b[0;34m\u001b[0m\u001b[0;34m\u001b[0m\u001b[0m\n\u001b[0m\u001b[1;32m   3332\u001b[0m         \u001b[0;32melse\u001b[0m\u001b[0;34m:\u001b[0m\u001b[0;34m\u001b[0m\u001b[0;34m\u001b[0m\u001b[0m\n\u001b[1;32m   3333\u001b[0m             raise PySparkTypeError(\n",
            "\u001b[0;32m/usr/local/lib/python3.10/dist-packages/py4j/java_gateway.py\u001b[0m in \u001b[0;36m__call__\u001b[0;34m(self, *args)\u001b[0m\n\u001b[1;32m   1320\u001b[0m \u001b[0;34m\u001b[0m\u001b[0m\n\u001b[1;32m   1321\u001b[0m         \u001b[0manswer\u001b[0m \u001b[0;34m=\u001b[0m \u001b[0mself\u001b[0m\u001b[0;34m.\u001b[0m\u001b[0mgateway_client\u001b[0m\u001b[0;34m.\u001b[0m\u001b[0msend_command\u001b[0m\u001b[0;34m(\u001b[0m\u001b[0mcommand\u001b[0m\u001b[0;34m)\u001b[0m\u001b[0;34m\u001b[0m\u001b[0;34m\u001b[0m\u001b[0m\n\u001b[0;32m-> 1322\u001b[0;31m         return_value = get_return_value(\n\u001b[0m\u001b[1;32m   1323\u001b[0m             answer, self.gateway_client, self.target_id, self.name)\n\u001b[1;32m   1324\u001b[0m \u001b[0;34m\u001b[0m\u001b[0m\n",
            "\u001b[0;32m/usr/local/lib/python3.10/dist-packages/pyspark/errors/exceptions/captured.py\u001b[0m in \u001b[0;36mdeco\u001b[0;34m(*a, **kw)\u001b[0m\n\u001b[1;32m    183\u001b[0m                 \u001b[0;31m# Hide where the exception came from that shows a non-Pythonic\u001b[0m\u001b[0;34m\u001b[0m\u001b[0;34m\u001b[0m\u001b[0m\n\u001b[1;32m    184\u001b[0m                 \u001b[0;31m# JVM exception message.\u001b[0m\u001b[0;34m\u001b[0m\u001b[0;34m\u001b[0m\u001b[0m\n\u001b[0;32m--> 185\u001b[0;31m                 \u001b[0;32mraise\u001b[0m \u001b[0mconverted\u001b[0m \u001b[0;32mfrom\u001b[0m \u001b[0;32mNone\u001b[0m\u001b[0;34m\u001b[0m\u001b[0;34m\u001b[0m\u001b[0m\n\u001b[0m\u001b[1;32m    186\u001b[0m             \u001b[0;32melse\u001b[0m\u001b[0;34m:\u001b[0m\u001b[0;34m\u001b[0m\u001b[0;34m\u001b[0m\u001b[0m\n\u001b[1;32m    187\u001b[0m                 \u001b[0;32mraise\u001b[0m\u001b[0;34m\u001b[0m\u001b[0;34m\u001b[0m\u001b[0m\n",
            "\u001b[0;31mAnalysisException\u001b[0m: [UNRESOLVED_COLUMN.WITH_SUGGESTION] A column or function parameter with name `TotalSpent` cannot be resolved. Did you mean one of the following? [`Name`, `sum(Amount)`].;\n'Filter ('TotalSpent > 30000)\n+- Aggregate [Name#55], [Name#55, sum(Amount#62) AS sum(Amount)#226]\n   +- Project [CustomerID#54L, Name#55, City#56, TransactionID#60L, Amount#62]\n      +- Join Inner, (CustomerID#54L = CustomerID#61L)\n         :- LogicalRDD [CustomerID#54L, Name#55, City#56], false\n         +- LogicalRDD [TransactionID#60L, CustomerID#61L, Amount#62], false\n"
          ]
        }
      ],
      "source": [
        "#Join the DataFrames on CustomerID\n",
        "customer_transactions_df = customer_df.join(transaction_df, on=\"CustomerID\")\n",
        "print(\"Customer Transactions DataFrame:\")\n",
        "customer_transactions_df.show()\n",
        "\n",
        "#Calculate the total amount spent by each customer\n",
        "total_spent_df = customer_transactions_df.groupBy(\"Name\").sum(\"Amount\").withColumnRenamed (\"sum (Amount)\", \"TotalSpent\")\n",
        "print(\"Total Amount Spent by Each Customer:\")\n",
        "total_spent_df.show()\n",
        "\n",
        "## Find customers who have spent more than ₹30,000\n",
        "big_spenders_df = total_spent_df.filter (col (\"TotalSpent\") > 30000)\n",
        "print(\"Customers Who Spent More Than ₹30,000:\")\n",
        "big_spenders_df.show()\n",
        "\n",
        "## Count the number of transactions per customer\n",
        "transactions_count_df = customer_transactions_df.groupBy(\"Name\").count().withColumnRenamed (\"count\", \"TransactionCount\")\n",
        "print(\"Number of Transactions Per Customer:\")\n",
        "transactions_count_df.show()\n",
        "\n",
        "## Sort customers by total amount spent in descending order\n",
        "sorted_spenders_df = total_spent_df.orderBy (col (\"TotalSpent\").desc())\n",
        "print(\"Customers Sorted by Total Spent (Descending):\")\n",
        "sorted_spenders_df.show()"
      ]
    },
    {
      "cell_type": "code",
      "execution_count": null,
      "metadata": {
        "colab": {
          "base_uri": "https://localhost:8080/"
        },
        "id": "g3maMjzXL4RW",
        "outputId": "ac5f2879-1e31-41f2-a16a-05611802eb1b"
      },
      "outputs": [
        {
          "name": "stdout",
          "output_type": "stream",
          "text": [
            "Products DataFrame:\n",
            "+---------+----------+-----------+-----+\n",
            "|ProductID|      Name|   Category|Price|\n",
            "+---------+----------+-----------+-----+\n",
            "|        1|    Laptop|Electronics|50000|\n",
            "|        2|Smartphone|Electronics|30000|\n",
            "|        3|     Table|  Furniture|15000|\n",
            "|        4|     Chair|  Furniture| 5000|\n",
            "|        5|Headphones|Electronics| 2000|\n",
            "+---------+----------+-----------+-----+\n",
            "\n",
            "Sales DataFrame:\n",
            "+------+---------+--------+\n",
            "|SaleID|ProductID|Quantity|\n",
            "+------+---------+--------+\n",
            "|     1|        1|       2|\n",
            "|     2|        2|       1|\n",
            "|     3|        3|       3|\n",
            "|     4|        1|       1|\n",
            "|     5|        4|       5|\n",
            "|     6|        2|       2|\n",
            "|     7|        5|      10|\n",
            "|     8|        3|       1|\n",
            "+------+---------+--------+\n",
            "\n"
          ]
        }
      ],
      "source": [
        "#### **Exercise: Product Sales Analysis**\n",
        "#### **Step 1: Create DataFrames**\n",
        "\n",
        "from pyspark.sql import SparkSession\n",
        "from pyspark.sql.functions import col\n",
        "\n",
        "# Initialize SparkSession\n",
        "spark = SparkSession.builder \\\n",
        "    .appName(\"Product Sales Analysis\") \\\n",
        "    .getOrCreate()\n",
        "\n",
        "# Sample data for products\n",
        "products = [\n",
        "    (1, \"Laptop\", \"Electronics\", 50000),\n",
        "    (2, \"Smartphone\", \"Electronics\", 30000),\n",
        "    (3, \"Table\", \"Furniture\", 15000),\n",
        "    (4, \"Chair\", \"Furniture\", 5000),\n",
        "    (5, \"Headphones\", \"Electronics\", 2000),\n",
        "]\n",
        "\n",
        "# Sample data for sales transactions\n",
        "sales = [\n",
        "    (1, 1, 2),\n",
        "    (2, 2, 1),\n",
        "    (3, 3, 3),\n",
        "    (4, 1, 1),\n",
        "    (5, 4, 5),\n",
        "    (6, 2, 2),\n",
        "    (7, 5, 10),\n",
        "    (8, 3, 1),\n",
        "]\n",
        "\n",
        "#Define schema for DataFrames\n",
        "product_columns = [\"ProductID\", \"Name\", \"Category\", \"Price\"]\n",
        "sales_columns = [\"SaleID\", \"ProductID\", \"Quantity\"]\n",
        "#Create DataFrames\n",
        "product_df = spark.createDataFrame (products, schema=product_columns)\n",
        "transaction_columns = [\"TransactionID\", \"CustomerID\", \"Amount\"]\n",
        "#Create DataFrames\n",
        "product_df = spark.createDataFrame (products, schema=product_columns)\n",
        "sales_df = spark.createDataFrame (sales, schema=sales_columns)\n",
        "\n",
        "#Show the DataFrames\n",
        "print(\"Products DataFrame:\")\n",
        "product_df.show()\n",
        "print(\"Sales DataFrame:\")\n",
        "sales_df.show()"
      ]
    },
    {
      "cell_type": "code",
      "execution_count": null,
      "metadata": {
        "colab": {
          "base_uri": "https://localhost:8080/"
        },
        "id": "nTEIC4rOT46f",
        "outputId": "24873e51-150d-4fb1-9393-8509d9b745cb"
      },
      "outputs": [
        {
          "name": "stdout",
          "output_type": "stream",
          "text": [
            "Product Sales DataFrame:\n",
            "+---------+----------+-----------+-----+------+--------+\n",
            "|ProductID|      Name|   Category|Price|SaleID|Quantity|\n",
            "+---------+----------+-----------+-----+------+--------+\n",
            "|        1|    Laptop|Electronics|50000|     1|       2|\n",
            "|        1|    Laptop|Electronics|50000|     4|       1|\n",
            "|        2|Smartphone|Electronics|30000|     2|       1|\n",
            "|        2|Smartphone|Electronics|30000|     6|       2|\n",
            "|        3|     Table|  Furniture|15000|     3|       3|\n",
            "|        3|     Table|  Furniture|15000|     8|       1|\n",
            "|        4|     Chair|  Furniture| 5000|     5|       5|\n",
            "|        5|Headphones|Electronics| 2000|     7|      10|\n",
            "+---------+----------+-----------+-----+------+--------+\n",
            "\n"
          ]
        }
      ],
      "source": [
        "#### **Step 2: Perform the Following Tasks**\n",
        "#1. **Join the DataFrames:**\n",
        "\n",
        "product_sales_df = product_df.join(sales_df, on=\"ProductID\")\n",
        "print(\"Product Sales DataFrame:\")\n",
        "product_sales_df.show()"
      ]
    },
    {
      "cell_type": "code",
      "execution_count": null,
      "metadata": {
        "colab": {
          "base_uri": "https://localhost:8080/"
        },
        "id": "iRHCf0vwVDuT",
        "outputId": "c3909c53-03be-4163-ff98-d2ee548c74db"
      },
      "outputs": [
        {
          "name": "stdout",
          "output_type": "stream",
          "text": [
            "Combined DataFrame with Total Sales Value:\n",
            "+---------+----------+-----------+-----+------+--------+---------------+\n",
            "|ProductID|      Name|   Category|Price|SaleID|Quantity|TotalSalesValue|\n",
            "+---------+----------+-----------+-----+------+--------+---------------+\n",
            "|        1|    Laptop|Electronics|50000|     1|       2|         100000|\n",
            "|        1|    Laptop|Electronics|50000|     4|       1|          50000|\n",
            "|        2|Smartphone|Electronics|30000|     2|       1|          30000|\n",
            "|        2|Smartphone|Electronics|30000|     6|       2|          60000|\n",
            "|        3|     Table|  Furniture|15000|     3|       3|          45000|\n",
            "|        3|     Table|  Furniture|15000|     8|       1|          15000|\n",
            "|        4|     Chair|  Furniture| 5000|     5|       5|          25000|\n",
            "|        5|Headphones|Electronics| 2000|     7|      10|          20000|\n",
            "+---------+----------+-----------+-----+------+--------+---------------+\n",
            "\n"
          ]
        }
      ],
      "source": [
        "#2. **Calculate Total Sales Value:**\n",
        "combined_df = product_sales_df.withColumn(\"TotalSalesValue\", col(\"Price\") * col(\"Quantity\"))\n",
        "print(\"Combined DataFrame with Total Sales Value:\")\n",
        "combined_df.show()"
      ]
    },
    {
      "cell_type": "code",
      "execution_count": null,
      "metadata": {
        "colab": {
          "base_uri": "https://localhost:8080/"
        },
        "id": "fsZyaBZ4WNNB",
        "outputId": "d6ccbe3c-f25f-4fdf-fc9d-9a04c9d7c6cd"
      },
      "outputs": [
        {
          "name": "stdout",
          "output_type": "stream",
          "text": [
            "Total Sales for Each Product Category:\n",
            "+-----------+------------------+\n",
            "|   Category|TotalCategorySales|\n",
            "+-----------+------------------+\n",
            "|Electronics|            260000|\n",
            "|  Furniture|             85000|\n",
            "+-----------+------------------+\n",
            "\n"
          ]
        }
      ],
      "source": [
        "#3. **Find the Total Sales for Each Product Category:**\n",
        "category_sales_df = combined_df.groupBy(\"Category\").agg({\"TotalSalesValue\": \"sum\"}).withColumnRenamed(\"sum(TotalSalesValue)\", \"TotalCategorySales\")\n",
        "print(\"Total Sales for Each Product Category:\")\n",
        "category_sales_df.show()"
      ]
    },
    {
      "cell_type": "code",
      "execution_count": null,
      "metadata": {
        "colab": {
          "base_uri": "https://localhost:8080/"
        },
        "id": "hR_-1kV_WlHm",
        "outputId": "65fdd1e6-5acb-4e97-f6a8-7ad18a160fd6"
      },
      "outputs": [
        {
          "name": "stdout",
          "output_type": "stream",
          "text": [
            "Top-Selling Product:\n",
            "+---------+------+-----------------+\n",
            "|ProductID|  Name|TotalProductSales|\n",
            "+---------+------+-----------------+\n",
            "|        1|Laptop|           150000|\n",
            "+---------+------+-----------------+\n",
            "\n"
          ]
        }
      ],
      "source": [
        "#4. **Identify the Top-Selling Product:**\n",
        "product_sales_df = combined_df.groupBy(\"ProductID\", \"Name\").agg({\"TotalSalesValue\": \"sum\"}).withColumnRenamed(\"sum(TotalSalesValue)\", \"TotalProductSales\")\n",
        "top_selling_product_df = product_sales_df.orderBy(col(\"TotalProductSales\").desc()).limit(1)\n",
        "print(\"Top-Selling Product:\")\n",
        "top_selling_product_df.show()\n",
        "\n"
      ]
    },
    {
      "cell_type": "code",
      "execution_count": null,
      "metadata": {
        "colab": {
          "base_uri": "https://localhost:8080/"
        },
        "id": "B4xOC3ipX3nw",
        "outputId": "f64214cb-3b7a-4c6c-9400-93633600e33a"
      },
      "outputs": [
        {
          "name": "stdout",
          "output_type": "stream",
          "text": [
            "Products Sorted by Total Sales Value:\n",
            "+---------+----------+-----------+-----+------+--------+---------------+\n",
            "|ProductID|      Name|   Category|Price|SaleID|Quantity|TotalSalesValue|\n",
            "+---------+----------+-----------+-----+------+--------+---------------+\n",
            "|        1|    Laptop|Electronics|50000|     1|       2|         100000|\n",
            "|        2|Smartphone|Electronics|30000|     6|       2|          60000|\n",
            "|        1|    Laptop|Electronics|50000|     4|       1|          50000|\n",
            "|        3|     Table|  Furniture|15000|     3|       3|          45000|\n",
            "|        2|Smartphone|Electronics|30000|     2|       1|          30000|\n",
            "|        4|     Chair|  Furniture| 5000|     5|       5|          25000|\n",
            "|        5|Headphones|Electronics| 2000|     7|      10|          20000|\n",
            "|        3|     Table|  Furniture|15000|     8|       1|          15000|\n",
            "+---------+----------+-----------+-----+------+--------+---------------+\n",
            "\n"
          ]
        }
      ],
      "source": [
        "#5. **Sort the Products by Total Sales Value:**\n",
        "sorted_products_df = combined_df.orderBy(col(\"TotalSalesValue\").desc())\n",
        "print(\"Products Sorted by Total Sales Value:\")\n",
        "sorted_products_df.show()"
      ]
    },
    {
      "cell_type": "code",
      "execution_count": null,
      "metadata": {
        "colab": {
          "base_uri": "https://localhost:8080/"
        },
        "id": "Qjzt7BB9YaOt",
        "outputId": "99397079-048a-4cc7-ba4c-0ce58f528b35"
      },
      "outputs": [
        {
          "name": "stdout",
          "output_type": "stream",
          "text": [
            "Number of Sales for Each Product:\n",
            "+---------+-------------+\n",
            "|ProductID|NumberOfSales|\n",
            "+---------+-------------+\n",
            "|        1|            2|\n",
            "|        3|            2|\n",
            "|        2|            2|\n",
            "|        5|            1|\n",
            "|        4|            1|\n",
            "+---------+-------------+\n",
            "\n"
          ]
        }
      ],
      "source": [
        "#6. **Count the Number of Sales for Each Product:**\n",
        "sales_count_df = sales_df.groupBy(\"ProductID\").count().withColumnRenamed(\"count\", \"NumberOfSales\")\n",
        "print(\"Number of Sales for Each Product:\")\n",
        "sales_count_df.show()\n"
      ]
    },
    {
      "cell_type": "code",
      "execution_count": null,
      "metadata": {
        "colab": {
          "base_uri": "https://localhost:8080/"
        },
        "id": "TM8YyYyfYnNu",
        "outputId": "7812e675-cd46-422e-e23c-ea963af2200c"
      },
      "outputs": [
        {
          "name": "stdout",
          "output_type": "stream",
          "text": [
            "Products with Total Sales Value > ₹50,000:\n",
            "+---------+----------+-----------------+\n",
            "|ProductID|      Name|TotalProductSales|\n",
            "+---------+----------+-----------------+\n",
            "|        1|    Laptop|           150000|\n",
            "|        2|Smartphone|            90000|\n",
            "|        3|     Table|            60000|\n",
            "+---------+----------+-----------------+\n",
            "\n"
          ]
        }
      ],
      "source": [
        "#7. **Filter the Products with Total Sales Value Greater Than ₹50,000:**\n",
        "product_sales_df = product_sales_df.withColumnRenamed(\"sum(TotalSalesValue)\", \"TotalProductSales\")\n",
        "filtered_products_df = product_sales_df.filter(col(\"TotalProductSales\") > 50000)\n",
        "print(\"Products with Total Sales Value > ₹50,000:\")\n",
        "filtered_products_df.show()"
      ]
    },
    {
      "cell_type": "code",
      "execution_count": 46,
      "metadata": {
        "colab": {
          "base_uri": "https://localhost:8080/"
        },
        "id": "8niuLH-Abrw9",
        "outputId": "2d1fd124-b606-4980-c8f8-e2e585127739"
      },
      "outputs": [
        {
          "name": "stdout",
          "output_type": "stream",
          "text": [
            "Sample sales dataset has been created and saved as 'sales_data.csv'.\n",
            "   TransactionID  CustomerID  ProductID  Quantity  Price        Date\n",
            "0              1         101        501         2  150.0  2024-09-01\n",
            "1              2         102        502         1  250.0  2024-09-01\n",
            "2              3         103        501         4  150.0  2024-09-02\n",
            "3              4         101        503         3  300.0  2024-09-02\n",
            "4              5         104        504         1  450.0  2024-09-03\n",
            "5              6         102        502         2  250.0  2024-09-03\n",
            "6              7         103        503         5  300.0  2024-09-04\n",
            "7              8         104        504         1  450.0  2024-09-04\n",
            "8              9         101        501         2  150.0  2024-09-05\n",
            "9             10         105        505         1  550.0  2024-09-05\n"
          ]
        }
      ],
      "source": [
        "### **Exercise: Analyzing a Sample Sales Dataset Using PySpark**\n",
        "### **Part 1: Dataset Preparation**\n",
        "\n",
        "#### **Step 1: Generate the Sample Sales Dataset**\n",
        "import pandas as pd\n",
        "from datetime import datetime\n",
        "\n",
        "# Sample sales data\n",
        "data = {\n",
        "       \"TransactionID\": [1, 2, 3, 4, 5, 6, 7, 8, 9, 10],\n",
        "       \"CustomerID\": [101, 102, 103, 101, 104, 102, 103, 104, 101, 105],\n",
        "       \"ProductID\": [501, 502, 501, 503, 504, 502, 503, 504, 501, 505],\n",
        "       \"Quantity\": [2, 1, 4, 3, 1, 2, 5, 1, 2, 1],\n",
        "       \"Price\": [150.0, 250.0, 150.0, 300.0, 450.0, 250.0, 300.0, 450.0, 150.0, 550.0],\n",
        "       \"Date\": [\n",
        "           datetime(2024, 9, 1),\n",
        "           datetime(2024, 9, 1),\n",
        "           datetime(2024, 9, 2),\n",
        "           datetime(2024, 9, 2),\n",
        "           datetime(2024, 9, 3),\n",
        "           datetime(2024, 9, 3),\n",
        "           datetime(2024, 9, 4),\n",
        "           datetime(2024, 9, 4),\n",
        "           datetime(2024, 9, 5),\n",
        "           datetime(2024, 9, 5)\n",
        "       ]\n",
        "   }\n",
        "\n",
        "# Create a DataFrame\n",
        "pandas_df = pd.DataFrame(data)\n",
        "\n",
        "# Save the DataFrame to a CSV file\n",
        "pandas_df.to_csv('sales_data.csv', index=False)\n",
        "\n",
        "print(\"Sample sales dataset has been created and saved as 'sales_data.csv'.\")\n",
        "\n",
        "#2. **Verify the Dataset:**\n",
        "pandas_df = pd.read_csv('sales_data.csv')\n",
        "print(pandas_df)\n"
      ]
    },
    {
      "cell_type": "code",
      "execution_count": 47,
      "metadata": {
        "colab": {
          "base_uri": "https://localhost:8080/"
        },
        "id": "9kYRMJt2n6EK",
        "outputId": "f43425f4-6e1d-400f-9c56-a99391fa4d15"
      },
      "outputs": [
        {
          "name": "stdout",
          "output_type": "stream",
          "text": [
            "+-------------+----------+---------+--------+-----+----------+\n",
            "|TransactionID|CustomerID|ProductID|Quantity|Price|      Date|\n",
            "+-------------+----------+---------+--------+-----+----------+\n",
            "|            1|       101|      501|       2|150.0|2024-09-01|\n",
            "|            2|       102|      502|       1|250.0|2024-09-01|\n",
            "|            3|       103|      501|       4|150.0|2024-09-02|\n",
            "|            4|       101|      503|       3|300.0|2024-09-02|\n",
            "|            5|       104|      504|       1|450.0|2024-09-03|\n",
            "+-------------+----------+---------+--------+-----+----------+\n",
            "only showing top 5 rows\n",
            "\n"
          ]
        }
      ],
      "source": [
        "#### **Step 2: Load the Dataset into PySpark**\n",
        "\n",
        "#1. **Initialize the SparkSession:**\n",
        "spark = SparkSession.builder \\\n",
        "    .appName(\"Sales Dataset Analysis\") \\\n",
        "    .getOrCreate()\n",
        "\n",
        "#2. **Load the CSV File into a PySpark DataFrame:**\n",
        "df = spark.read.csv('sales_data.csv', header=True, inferSchema=True)\n",
        "#Display the first few rows\n",
        "df.show(5)"
      ]
    },
    {
      "cell_type": "code",
      "execution_count": 48,
      "metadata": {
        "colab": {
          "base_uri": "https://localhost:8080/"
        },
        "id": "xCJ_DmMHpnfT",
        "outputId": "ff28f22f-7bfd-4d5b-e3e1-804d6ff7b5ae"
      },
      "outputs": [
        {
          "name": "stdout",
          "output_type": "stream",
          "text": [
            "root\n",
            " |-- TransactionID: integer (nullable = true)\n",
            " |-- CustomerID: integer (nullable = true)\n",
            " |-- ProductID: integer (nullable = true)\n",
            " |-- Quantity: integer (nullable = true)\n",
            " |-- Price: double (nullable = true)\n",
            " |-- Date: date (nullable = true)\n",
            "\n",
            "+-------------+----------+---------+--------+-----+----------+\n",
            "|TransactionID|CustomerID|ProductID|Quantity|Price|      Date|\n",
            "+-------------+----------+---------+--------+-----+----------+\n",
            "|            1|       101|      501|       2|150.0|2024-09-01|\n",
            "|            2|       102|      502|       1|250.0|2024-09-01|\n",
            "|            3|       103|      501|       4|150.0|2024-09-02|\n",
            "|            4|       101|      503|       3|300.0|2024-09-02|\n",
            "|            5|       104|      504|       1|450.0|2024-09-03|\n",
            "+-------------+----------+---------+--------+-----+----------+\n",
            "only showing top 5 rows\n",
            "\n",
            "+-------+-----------------+-----------------+\n",
            "|summary|         Quantity|            Price|\n",
            "+-------+-----------------+-----------------+\n",
            "|  count|               10|               10|\n",
            "|   mean|              2.2|            300.0|\n",
            "| stddev|1.398411797560202|141.4213562373095|\n",
            "|    min|                1|            150.0|\n",
            "|    max|                5|            550.0|\n",
            "+-------+-----------------+-----------------+\n",
            "\n"
          ]
        }
      ],
      "source": [
        "#### **Step 3: Explore the Data**\n",
        "#1. **Print the Schema:**\n",
        "df.printSchema()\n",
        "\n",
        "#2. **Show the First Few Rows:**\n",
        "df.show(5)\n",
        "\n",
        "#3. **Get Summary Statistics:**\n",
        "df.describe(\"Quantity\", \"Price\").show()"
      ]
    },
    {
      "cell_type": "code",
      "execution_count": 52,
      "metadata": {
        "colab": {
          "base_uri": "https://localhost:8080/"
        },
        "id": "7Ggm1_8eqKV5",
        "outputId": "989e88b6-2f65-4036-842d-ccaa2bf90f58"
      },
      "outputs": [
        {
          "name": "stdout",
          "output_type": "stream",
          "text": [
            "+-------------+----------+---------+--------+-----+----------+---------------+----------+\n",
            "|TransactionID|CustomerID|ProductID|Quantity|Price|      Date|TotalSalesValue|TotalSales|\n",
            "+-------------+----------+---------+--------+-----+----------+---------------+----------+\n",
            "|            1|       101|      501|       2|150.0|2024-09-01|          300.0|     300.0|\n",
            "|            2|       102|      502|       1|250.0|2024-09-01|          250.0|     250.0|\n",
            "|            3|       103|      501|       4|150.0|2024-09-02|          600.0|     600.0|\n",
            "|            4|       101|      503|       3|300.0|2024-09-02|          900.0|     900.0|\n",
            "|            5|       104|      504|       1|450.0|2024-09-03|          450.0|     450.0|\n",
            "|            6|       102|      502|       2|250.0|2024-09-03|          500.0|     500.0|\n",
            "|            7|       103|      503|       5|300.0|2024-09-04|         1500.0|    1500.0|\n",
            "|            8|       104|      504|       1|450.0|2024-09-04|          450.0|     450.0|\n",
            "|            9|       101|      501|       2|150.0|2024-09-05|          300.0|     300.0|\n",
            "|           10|       105|      505|       1|550.0|2024-09-05|          550.0|     550.0|\n",
            "+-------------+----------+---------+--------+-----+----------+---------------+----------+\n",
            "\n",
            "+---------+---------------+\n",
            "|ProductID|sum(TotalSales)|\n",
            "+---------+---------------+\n",
            "|      501|         1200.0|\n",
            "|      504|          900.0|\n",
            "|      502|          750.0|\n",
            "|      505|          550.0|\n",
            "|      503|         2400.0|\n",
            "+---------+---------------+\n",
            "\n",
            "+---------+---------------+\n",
            "|ProductID|sum(TotalSales)|\n",
            "+---------+---------------+\n",
            "|      503|         2400.0|\n",
            "+---------+---------------+\n",
            "only showing top 1 row\n",
            "\n",
            "+----------+---------------+\n",
            "|      Date|sum(TotalSales)|\n",
            "+----------+---------------+\n",
            "|2024-09-01|          550.0|\n",
            "|2024-09-02|         1500.0|\n",
            "|2024-09-03|          950.0|\n",
            "|2024-09-04|         1950.0|\n",
            "|2024-09-05|          850.0|\n",
            "+----------+---------------+\n",
            "\n",
            "+-------------+----------+---------+--------+-----+----------+---------------+----------+\n",
            "|TransactionID|CustomerID|ProductID|Quantity|Price|      Date|TotalSalesValue|TotalSales|\n",
            "+-------------+----------+---------+--------+-----+----------+---------------+----------+\n",
            "|            3|       103|      501|       4|150.0|2024-09-02|          600.0|     600.0|\n",
            "|            4|       101|      503|       3|300.0|2024-09-02|          900.0|     900.0|\n",
            "|            7|       103|      503|       5|300.0|2024-09-04|         1500.0|    1500.0|\n",
            "|           10|       105|      505|       1|550.0|2024-09-05|          550.0|     550.0|\n",
            "+-------------+----------+---------+--------+-----+----------+---------------+----------+\n",
            "\n"
          ]
        }
      ],
      "source": [
        "#### **Step 4: Perform Data Transformations and Analysis**\n",
        "#1. **Calculate the Total Sales Value for Each Transaction:**\n",
        "df = df.withColumn(\"TotalSales\", col(\"Quantity\") * col(\"Price\"))\n",
        "df.show()\n",
        "\n",
        "#2. **Group By ProductID and Calculate Total Sales Per Product:**\n",
        "df.groupBy(\"ProductID\").sum(\"TotalSales\").alias(\"TotalProductSales\").show()\n",
        "\n",
        "#3. **Identify the Top-Selling Product:**\n",
        "from pyspark.sql.functions import desc\n",
        "df.groupBy(\"ProductID\").sum(\"TotalSales\").alias(\"TotalProductSales\").orderBy(desc(\"sum(TotalSales)\")).show(1)\n",
        "\n",
        "#4. **Calculate the Total Sales by Date:**\n",
        "df.groupBy(\"Date\").sum(\"TotalSales\").alias(\"TotalSalesByDate\").orderBy(\"Date\").show()\n",
        "\n",
        "#5. **Filter High-Value Transactions:**\n",
        "df.filter(col(\"TotalSales\") > 500).show()\n"
      ]
    },
    {
      "cell_type": "code",
      "execution_count": 53,
      "metadata": {
        "colab": {
          "base_uri": "https://localhost:8080/"
        },
        "id": "RpqqJlw_uA9V",
        "outputId": "294f7e3e-1c69-445b-fe7f-8beea39b4932"
      },
      "outputs": [
        {
          "name": "stdout",
          "output_type": "stream",
          "text": [
            "+----------+-----+\n",
            "|CustomerID|count|\n",
            "+----------+-----+\n",
            "|       101|    3|\n",
            "|       103|    2|\n",
            "|       102|    2|\n",
            "|       104|    2|\n",
            "+----------+-----+\n",
            "\n",
            "+---------+----------+\n",
            "|ProductID|avg(Price)|\n",
            "+---------+----------+\n",
            "|      501|     150.0|\n",
            "|      504|     450.0|\n",
            "|      502|     250.0|\n",
            "|      505|     550.0|\n",
            "|      503|     300.0|\n",
            "+---------+----------+\n",
            "\n"
          ]
        }
      ],
      "source": [
        "### **Additional Challenge (Optional):**\n",
        "#1. **Identify Repeat Customers:**\n",
        "df.groupBy(\"CustomerID\").count().filter(col(\"count\") > 1).show()\n",
        "\n",
        "#2. **Calculate the Average Sale Price Per Product:**\n",
        "df.groupBy(\"ProductID\").avg(\"Price\").alias(\"AvgPricePerProduct\").show()\n",
        "\n"
      ]
    },
    {
      "cell_type": "code",
      "execution_count": null,
      "metadata": {},
      "outputs": [],
      "source": []
    }
  ],
  "metadata": {
    "colab": {
      "provenance": []
    },
    "kernelspec": {
      "display_name": "Python 3",
      "name": "python3"
    },
    "language_info": {
      "name": "python"
    }
  },
  "nbformat": 4,
  "nbformat_minor": 0
}
